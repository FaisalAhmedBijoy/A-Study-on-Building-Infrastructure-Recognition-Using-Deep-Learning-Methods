{
 "cells": [
  {
   "cell_type": "code",
   "execution_count": 1,
   "metadata": {},
   "outputs": [],
   "source": [
    "import numpy as np\n",
    "import pandas as pd\n",
    "import matplotlib.pyplot as plt"
   ]
  },
  {
   "cell_type": "markdown",
   "metadata": {},
   "source": [
    "## Import Excel File"
   ]
  },
  {
   "cell_type": "code",
   "execution_count": 41,
   "metadata": {
    "scrolled": true
   },
   "outputs": [
    {
     "data": {
      "text/html": [
       "<div>\n",
       "<style scoped>\n",
       "    .dataframe tbody tr th:only-of-type {\n",
       "        vertical-align: middle;\n",
       "    }\n",
       "\n",
       "    .dataframe tbody tr th {\n",
       "        vertical-align: top;\n",
       "    }\n",
       "\n",
       "    .dataframe thead th {\n",
       "        text-align: right;\n",
       "    }\n",
       "</style>\n",
       "<table border=\"1\" class=\"dataframe\">\n",
       "  <thead>\n",
       "    <tr style=\"text-align: right;\">\n",
       "      <th></th>\n",
       "      <th>Unnamed: 0</th>\n",
       "      <th>Class Name</th>\n",
       "      <th>Label Box</th>\n",
       "      <th>Detected Class Name</th>\n",
       "      <th>Detected Box</th>\n",
       "      <th>Score</th>\n",
       "      <th>IoU</th>\n",
       "    </tr>\n",
       "  </thead>\n",
       "  <tbody>\n",
       "    <tr>\n",
       "      <th>0</th>\n",
       "      <td>0</td>\n",
       "      <td>Building House</td>\n",
       "      <td>[350, 259, 1372, 806]</td>\n",
       "      <td>Building House</td>\n",
       "      <td>[189, 267, 1335, 822]</td>\n",
       "      <td>0.883627</td>\n",
       "      <td>0.799584</td>\n",
       "    </tr>\n",
       "    <tr>\n",
       "      <th>1</th>\n",
       "      <td>1</td>\n",
       "      <td>Building House</td>\n",
       "      <td>[169, 26, 1034, 622]</td>\n",
       "      <td>Building House</td>\n",
       "      <td>[189, 3, 1015, 630]</td>\n",
       "      <td>0.876904</td>\n",
       "      <td>0.909848</td>\n",
       "    </tr>\n",
       "    <tr>\n",
       "      <th>2</th>\n",
       "      <td>2</td>\n",
       "      <td>Building House</td>\n",
       "      <td>[45, 96, 455, 413]</td>\n",
       "      <td>Building House</td>\n",
       "      <td>[60, 86, 441, 440]</td>\n",
       "      <td>0.859647</td>\n",
       "      <td>0.838737</td>\n",
       "    </tr>\n",
       "    <tr>\n",
       "      <th>3</th>\n",
       "      <td>3</td>\n",
       "      <td>Building House</td>\n",
       "      <td>[205, 98, 1399, 868]</td>\n",
       "      <td>Building House</td>\n",
       "      <td>[249, 96, 1387, 866]</td>\n",
       "      <td>0.868228</td>\n",
       "      <td>0.948321</td>\n",
       "    </tr>\n",
       "    <tr>\n",
       "      <th>4</th>\n",
       "      <td>4</td>\n",
       "      <td>Building House</td>\n",
       "      <td>[63, 176, 852, 524]</td>\n",
       "      <td>Building House</td>\n",
       "      <td>[70, 167, 864, 542]</td>\n",
       "      <td>0.904251</td>\n",
       "      <td>0.906770</td>\n",
       "    </tr>\n",
       "    <tr>\n",
       "      <th>5</th>\n",
       "      <td>5</td>\n",
       "      <td>Building House</td>\n",
       "      <td>[25, 28, 231, 150]</td>\n",
       "      <td>Building House</td>\n",
       "      <td>[25, 26, 233, 145]</td>\n",
       "      <td>0.866012</td>\n",
       "      <td>0.935325</td>\n",
       "    </tr>\n",
       "    <tr>\n",
       "      <th>6</th>\n",
       "      <td>6</td>\n",
       "      <td>Building House</td>\n",
       "      <td>[18, 13, 278, 176]</td>\n",
       "      <td>Building House</td>\n",
       "      <td>[23, 14, 273, 177]</td>\n",
       "      <td>0.906083</td>\n",
       "      <td>0.950250</td>\n",
       "    </tr>\n",
       "    <tr>\n",
       "      <th>7</th>\n",
       "      <td>7</td>\n",
       "      <td>Building House</td>\n",
       "      <td>[229, 103, 844, 623]</td>\n",
       "      <td>Building House</td>\n",
       "      <td>[244, 77, 862, 661]</td>\n",
       "      <td>0.937989</td>\n",
       "      <td>0.846433</td>\n",
       "    </tr>\n",
       "    <tr>\n",
       "      <th>8</th>\n",
       "      <td>8</td>\n",
       "      <td>Building House</td>\n",
       "      <td>[62, 83, 464, 629]</td>\n",
       "      <td>Building House</td>\n",
       "      <td>[55, 79, 480, 655]</td>\n",
       "      <td>0.906635</td>\n",
       "      <td>0.896823</td>\n",
       "    </tr>\n",
       "    <tr>\n",
       "      <th>9</th>\n",
       "      <td>9</td>\n",
       "      <td>Building House</td>\n",
       "      <td>[104, 119, 1101, 711]</td>\n",
       "      <td>Building House</td>\n",
       "      <td>[131, 71, 1108, 718]</td>\n",
       "      <td>0.890968</td>\n",
       "      <td>0.886185</td>\n",
       "    </tr>\n",
       "  </tbody>\n",
       "</table>\n",
       "</div>"
      ],
      "text/plain": [
       "   Unnamed: 0      Class Name              Label Box Detected Class Name  \\\n",
       "0           0  Building House  [350, 259, 1372, 806]      Building House   \n",
       "1           1  Building House   [169, 26, 1034, 622]      Building House   \n",
       "2           2  Building House     [45, 96, 455, 413]      Building House   \n",
       "3           3  Building House   [205, 98, 1399, 868]      Building House   \n",
       "4           4  Building House    [63, 176, 852, 524]      Building House   \n",
       "5           5  Building House     [25, 28, 231, 150]      Building House   \n",
       "6           6  Building House     [18, 13, 278, 176]      Building House   \n",
       "7           7  Building House   [229, 103, 844, 623]      Building House   \n",
       "8           8  Building House     [62, 83, 464, 629]      Building House   \n",
       "9           9  Building House  [104, 119, 1101, 711]      Building House   \n",
       "\n",
       "            Detected Box     Score       IoU  \n",
       "0  [189, 267, 1335, 822]  0.883627  0.799584  \n",
       "1    [189, 3, 1015, 630]  0.876904  0.909848  \n",
       "2     [60, 86, 441, 440]  0.859647  0.838737  \n",
       "3   [249, 96, 1387, 866]  0.868228  0.948321  \n",
       "4    [70, 167, 864, 542]  0.904251  0.906770  \n",
       "5     [25, 26, 233, 145]  0.866012  0.935325  \n",
       "6     [23, 14, 273, 177]  0.906083  0.950250  \n",
       "7    [244, 77, 862, 661]  0.937989  0.846433  \n",
       "8     [55, 79, 480, 655]  0.906635  0.896823  \n",
       "9   [131, 71, 1108, 718]  0.890968  0.886185  "
      ]
     },
     "execution_count": 41,
     "metadata": {},
     "output_type": "execute_result"
    }
   ],
   "source": [
    "df=pd.read_csv('Train Data Evaluation.csv')\n",
    "df.head(10)"
   ]
  },
  {
   "cell_type": "code",
   "execution_count": 35,
   "metadata": {},
   "outputs": [
    {
     "data": {
      "text/html": [
       "<div>\n",
       "<style scoped>\n",
       "    .dataframe tbody tr th:only-of-type {\n",
       "        vertical-align: middle;\n",
       "    }\n",
       "\n",
       "    .dataframe tbody tr th {\n",
       "        vertical-align: top;\n",
       "    }\n",
       "\n",
       "    .dataframe thead th {\n",
       "        text-align: right;\n",
       "    }\n",
       "</style>\n",
       "<table border=\"1\" class=\"dataframe\">\n",
       "  <thead>\n",
       "    <tr style=\"text-align: right;\">\n",
       "      <th></th>\n",
       "      <th>Unnamed: 0</th>\n",
       "      <th>Class Name</th>\n",
       "      <th>Label Box</th>\n",
       "      <th>Detected Class Name</th>\n",
       "      <th>Detected Box</th>\n",
       "      <th>Score</th>\n",
       "      <th>IoU</th>\n",
       "    </tr>\n",
       "  </thead>\n",
       "  <tbody>\n",
       "    <tr>\n",
       "      <th>722</th>\n",
       "      <td>722</td>\n",
       "      <td>Tin-shade House</td>\n",
       "      <td>[341, 196, 1264, 726]</td>\n",
       "      <td>Tin-shade House</td>\n",
       "      <td>[331, 200, 1270, 707]</td>\n",
       "      <td>0.843098</td>\n",
       "      <td>0.941095</td>\n",
       "    </tr>\n",
       "    <tr>\n",
       "      <th>723</th>\n",
       "      <td>723</td>\n",
       "      <td>Tin-shade House</td>\n",
       "      <td>[56, 74, 470, 364]</td>\n",
       "      <td>Tin-shade House</td>\n",
       "      <td>[57, 50, 465, 366]</td>\n",
       "      <td>0.884686</td>\n",
       "      <td>0.905783</td>\n",
       "    </tr>\n",
       "    <tr>\n",
       "      <th>724</th>\n",
       "      <td>724</td>\n",
       "      <td>Tin-shade House</td>\n",
       "      <td>[56, 76, 1247, 668]</td>\n",
       "      <td>Building House</td>\n",
       "      <td>[35, 60, 1271, 693]</td>\n",
       "      <td>0.690043</td>\n",
       "      <td>0.901305</td>\n",
       "    </tr>\n",
       "    <tr>\n",
       "      <th>725</th>\n",
       "      <td>725</td>\n",
       "      <td>Tin-shade House</td>\n",
       "      <td>[54, 31, 1274, 736]</td>\n",
       "      <td>Tin-shade House</td>\n",
       "      <td>[55, 20, 1282, 720]</td>\n",
       "      <td>0.871229</td>\n",
       "      <td>0.955447</td>\n",
       "    </tr>\n",
       "    <tr>\n",
       "      <th>726</th>\n",
       "      <td>726</td>\n",
       "      <td>Tin-shade House</td>\n",
       "      <td>[22, 9, 509, 276]</td>\n",
       "      <td>Tin-shade House</td>\n",
       "      <td>[17, 8, 511, 267]</td>\n",
       "      <td>0.811948</td>\n",
       "      <td>0.949659</td>\n",
       "    </tr>\n",
       "  </tbody>\n",
       "</table>\n",
       "</div>"
      ],
      "text/plain": [
       "     Unnamed: 0       Class Name              Label Box Detected Class Name  \\\n",
       "722         722  Tin-shade House  [341, 196, 1264, 726]     Tin-shade House   \n",
       "723         723  Tin-shade House     [56, 74, 470, 364]     Tin-shade House   \n",
       "724         724  Tin-shade House    [56, 76, 1247, 668]      Building House   \n",
       "725         725  Tin-shade House    [54, 31, 1274, 736]     Tin-shade House   \n",
       "726         726  Tin-shade House      [22, 9, 509, 276]     Tin-shade House   \n",
       "\n",
       "              Detected Box     Score       IoU  \n",
       "722  [331, 200, 1270, 707]  0.843098  0.941095  \n",
       "723     [57, 50, 465, 366]  0.884686  0.905783  \n",
       "724    [35, 60, 1271, 693]  0.690043  0.901305  \n",
       "725    [55, 20, 1282, 720]  0.871229  0.955447  \n",
       "726      [17, 8, 511, 267]  0.811948  0.949659  "
      ]
     },
     "execution_count": 35,
     "metadata": {},
     "output_type": "execute_result"
    }
   ],
   "source": [
    "df.tail()"
   ]
  },
  {
   "cell_type": "markdown",
   "metadata": {},
   "source": [
    "## Analysis the dataset"
   ]
  },
  {
   "cell_type": "code",
   "execution_count": 3,
   "metadata": {},
   "outputs": [
    {
     "name": "stdout",
     "output_type": "stream",
     "text": [
      "<class 'pandas.core.frame.DataFrame'>\n",
      "RangeIndex: 727 entries, 0 to 726\n",
      "Data columns (total 7 columns):\n",
      " #   Column               Non-Null Count  Dtype  \n",
      "---  ------               --------------  -----  \n",
      " 0   Unnamed: 0           727 non-null    int64  \n",
      " 1   Class Name           727 non-null    object \n",
      " 2   Label Box            727 non-null    object \n",
      " 3   Detected Class Name  727 non-null    object \n",
      " 4   Detected Box         727 non-null    object \n",
      " 5   Score                727 non-null    float64\n",
      " 6   IoU                  727 non-null    float64\n",
      "dtypes: float64(2), int64(1), object(4)\n",
      "memory usage: 39.9+ KB\n"
     ]
    }
   ],
   "source": [
    "df.info()"
   ]
  },
  {
   "cell_type": "code",
   "execution_count": 4,
   "metadata": {
    "scrolled": false
   },
   "outputs": [
    {
     "data": {
      "text/html": [
       "<div>\n",
       "<style scoped>\n",
       "    .dataframe tbody tr th:only-of-type {\n",
       "        vertical-align: middle;\n",
       "    }\n",
       "\n",
       "    .dataframe tbody tr th {\n",
       "        vertical-align: top;\n",
       "    }\n",
       "\n",
       "    .dataframe thead th {\n",
       "        text-align: right;\n",
       "    }\n",
       "</style>\n",
       "<table border=\"1\" class=\"dataframe\">\n",
       "  <thead>\n",
       "    <tr style=\"text-align: right;\">\n",
       "      <th></th>\n",
       "      <th>Unnamed: 0</th>\n",
       "      <th>Score</th>\n",
       "      <th>IoU</th>\n",
       "    </tr>\n",
       "  </thead>\n",
       "  <tbody>\n",
       "    <tr>\n",
       "      <th>count</th>\n",
       "      <td>727.000000</td>\n",
       "      <td>727.000000</td>\n",
       "      <td>727.000000</td>\n",
       "    </tr>\n",
       "    <tr>\n",
       "      <th>mean</th>\n",
       "      <td>363.000000</td>\n",
       "      <td>0.874711</td>\n",
       "      <td>0.872765</td>\n",
       "    </tr>\n",
       "    <tr>\n",
       "      <th>std</th>\n",
       "      <td>210.011111</td>\n",
       "      <td>0.080217</td>\n",
       "      <td>0.145375</td>\n",
       "    </tr>\n",
       "    <tr>\n",
       "      <th>min</th>\n",
       "      <td>0.000000</td>\n",
       "      <td>0.504380</td>\n",
       "      <td>0.000000</td>\n",
       "    </tr>\n",
       "    <tr>\n",
       "      <th>25%</th>\n",
       "      <td>181.500000</td>\n",
       "      <td>0.850278</td>\n",
       "      <td>0.871211</td>\n",
       "    </tr>\n",
       "    <tr>\n",
       "      <th>50%</th>\n",
       "      <td>363.000000</td>\n",
       "      <td>0.899010</td>\n",
       "      <td>0.900303</td>\n",
       "    </tr>\n",
       "    <tr>\n",
       "      <th>75%</th>\n",
       "      <td>544.500000</td>\n",
       "      <td>0.925961</td>\n",
       "      <td>0.928821</td>\n",
       "    </tr>\n",
       "    <tr>\n",
       "      <th>max</th>\n",
       "      <td>726.000000</td>\n",
       "      <td>0.973219</td>\n",
       "      <td>0.980031</td>\n",
       "    </tr>\n",
       "  </tbody>\n",
       "</table>\n",
       "</div>"
      ],
      "text/plain": [
       "       Unnamed: 0       Score         IoU\n",
       "count  727.000000  727.000000  727.000000\n",
       "mean   363.000000    0.874711    0.872765\n",
       "std    210.011111    0.080217    0.145375\n",
       "min      0.000000    0.504380    0.000000\n",
       "25%    181.500000    0.850278    0.871211\n",
       "50%    363.000000    0.899010    0.900303\n",
       "75%    544.500000    0.925961    0.928821\n",
       "max    726.000000    0.973219    0.980031"
      ]
     },
     "execution_count": 4,
     "metadata": {},
     "output_type": "execute_result"
    }
   ],
   "source": [
    "df.describe()"
   ]
  },
  {
   "cell_type": "code",
   "execution_count": 5,
   "metadata": {},
   "outputs": [
    {
     "data": {
      "text/plain": [
       "0       True\n",
       "1       True\n",
       "2       True\n",
       "3       True\n",
       "4       True\n",
       "       ...  \n",
       "722     True\n",
       "723     True\n",
       "724    False\n",
       "725     True\n",
       "726     True\n",
       "Length: 727, dtype: bool"
      ]
     },
     "execution_count": 5,
     "metadata": {},
     "output_type": "execute_result"
    }
   ],
   "source": [
    "df['Class Name'] == df['Detected Class Name'] "
   ]
  },
  {
   "cell_type": "markdown",
   "metadata": {},
   "source": [
    "## Score and IoU"
   ]
  },
  {
   "cell_type": "code",
   "execution_count": 6,
   "metadata": {},
   "outputs": [],
   "source": [
    "score=df[['Score']]\n",
    "iou=df[['IoU']]"
   ]
  },
  {
   "cell_type": "code",
   "execution_count": 40,
   "metadata": {},
   "outputs": [
    {
     "data": {
      "text/html": [
       "<div>\n",
       "<style scoped>\n",
       "    .dataframe tbody tr th:only-of-type {\n",
       "        vertical-align: middle;\n",
       "    }\n",
       "\n",
       "    .dataframe tbody tr th {\n",
       "        vertical-align: top;\n",
       "    }\n",
       "\n",
       "    .dataframe thead th {\n",
       "        text-align: right;\n",
       "    }\n",
       "</style>\n",
       "<table border=\"1\" class=\"dataframe\">\n",
       "  <thead>\n",
       "    <tr style=\"text-align: right;\">\n",
       "      <th></th>\n",
       "      <th>Score</th>\n",
       "      <th>IoU</th>\n",
       "    </tr>\n",
       "  </thead>\n",
       "  <tbody>\n",
       "    <tr>\n",
       "      <th>0</th>\n",
       "      <td>0.883627</td>\n",
       "      <td>0.799584</td>\n",
       "    </tr>\n",
       "    <tr>\n",
       "      <th>1</th>\n",
       "      <td>0.876904</td>\n",
       "      <td>0.909848</td>\n",
       "    </tr>\n",
       "    <tr>\n",
       "      <th>2</th>\n",
       "      <td>0.859647</td>\n",
       "      <td>0.838737</td>\n",
       "    </tr>\n",
       "    <tr>\n",
       "      <th>3</th>\n",
       "      <td>0.868228</td>\n",
       "      <td>0.948321</td>\n",
       "    </tr>\n",
       "    <tr>\n",
       "      <th>4</th>\n",
       "      <td>0.904251</td>\n",
       "      <td>0.906770</td>\n",
       "    </tr>\n",
       "  </tbody>\n",
       "</table>\n",
       "</div>"
      ],
      "text/plain": [
       "      Score       IoU\n",
       "0  0.883627  0.799584\n",
       "1  0.876904  0.909848\n",
       "2  0.859647  0.838737\n",
       "3  0.868228  0.948321\n",
       "4  0.904251  0.906770"
      ]
     },
     "execution_count": 40,
     "metadata": {},
     "output_type": "execute_result"
    }
   ],
   "source": [
    "df[['Score','IoU']].head()"
   ]
  },
  {
   "cell_type": "code",
   "execution_count": 7,
   "metadata": {
    "scrolled": true
   },
   "outputs": [
    {
     "data": {
      "text/html": [
       "<div>\n",
       "<style scoped>\n",
       "    .dataframe tbody tr th:only-of-type {\n",
       "        vertical-align: middle;\n",
       "    }\n",
       "\n",
       "    .dataframe tbody tr th {\n",
       "        vertical-align: top;\n",
       "    }\n",
       "\n",
       "    .dataframe thead th {\n",
       "        text-align: right;\n",
       "    }\n",
       "</style>\n",
       "<table border=\"1\" class=\"dataframe\">\n",
       "  <thead>\n",
       "    <tr style=\"text-align: right;\">\n",
       "      <th></th>\n",
       "      <th>Score</th>\n",
       "    </tr>\n",
       "  </thead>\n",
       "  <tbody>\n",
       "    <tr>\n",
       "      <th>0</th>\n",
       "      <td>0.883627</td>\n",
       "    </tr>\n",
       "    <tr>\n",
       "      <th>1</th>\n",
       "      <td>0.876904</td>\n",
       "    </tr>\n",
       "    <tr>\n",
       "      <th>2</th>\n",
       "      <td>0.859647</td>\n",
       "    </tr>\n",
       "    <tr>\n",
       "      <th>3</th>\n",
       "      <td>0.868228</td>\n",
       "    </tr>\n",
       "    <tr>\n",
       "      <th>4</th>\n",
       "      <td>0.904251</td>\n",
       "    </tr>\n",
       "  </tbody>\n",
       "</table>\n",
       "</div>"
      ],
      "text/plain": [
       "      Score\n",
       "0  0.883627\n",
       "1  0.876904\n",
       "2  0.859647\n",
       "3  0.868228\n",
       "4  0.904251"
      ]
     },
     "execution_count": 7,
     "metadata": {},
     "output_type": "execute_result"
    }
   ],
   "source": [
    "score.head()"
   ]
  },
  {
   "cell_type": "code",
   "execution_count": 8,
   "metadata": {},
   "outputs": [
    {
     "data": {
      "text/html": [
       "<div>\n",
       "<style scoped>\n",
       "    .dataframe tbody tr th:only-of-type {\n",
       "        vertical-align: middle;\n",
       "    }\n",
       "\n",
       "    .dataframe tbody tr th {\n",
       "        vertical-align: top;\n",
       "    }\n",
       "\n",
       "    .dataframe thead th {\n",
       "        text-align: right;\n",
       "    }\n",
       "</style>\n",
       "<table border=\"1\" class=\"dataframe\">\n",
       "  <thead>\n",
       "    <tr style=\"text-align: right;\">\n",
       "      <th></th>\n",
       "      <th>IoU</th>\n",
       "    </tr>\n",
       "  </thead>\n",
       "  <tbody>\n",
       "    <tr>\n",
       "      <th>0</th>\n",
       "      <td>0.799584</td>\n",
       "    </tr>\n",
       "    <tr>\n",
       "      <th>1</th>\n",
       "      <td>0.909848</td>\n",
       "    </tr>\n",
       "    <tr>\n",
       "      <th>2</th>\n",
       "      <td>0.838737</td>\n",
       "    </tr>\n",
       "    <tr>\n",
       "      <th>3</th>\n",
       "      <td>0.948321</td>\n",
       "    </tr>\n",
       "    <tr>\n",
       "      <th>4</th>\n",
       "      <td>0.906770</td>\n",
       "    </tr>\n",
       "  </tbody>\n",
       "</table>\n",
       "</div>"
      ],
      "text/plain": [
       "        IoU\n",
       "0  0.799584\n",
       "1  0.909848\n",
       "2  0.838737\n",
       "3  0.948321\n",
       "4  0.906770"
      ]
     },
     "execution_count": 8,
     "metadata": {},
     "output_type": "execute_result"
    }
   ],
   "source": [
    "iou.head()"
   ]
  },
  {
   "cell_type": "code",
   "execution_count": 24,
   "metadata": {
    "scrolled": true
   },
   "outputs": [
    {
     "data": {
      "text/plain": [
       "Text(0, 0.5, 'iou')"
      ]
     },
     "execution_count": 24,
     "metadata": {},
     "output_type": "execute_result"
    },
    {
     "data": {
      "image/png": "[encoded data removed]",
      "text/plain": [
       "<Figure size 432x288 with 1 Axes>"
      ]
     },
     "metadata": {
      "needs_background": "light"
     },
     "output_type": "display_data"
    }
   ],
   "source": [
    "plt.scatter(score,iou)\n",
    "plt.xlabel('confidence score')\n",
    "plt.ylabel('iou')\n"
   ]
  },
  {
   "cell_type": "code",
   "execution_count": 10,
   "metadata": {
    "scrolled": true
   },
   "outputs": [
    {
     "data": {
      "text/html": [
       "<div>\n",
       "<style scoped>\n",
       "    .dataframe tbody tr th:only-of-type {\n",
       "        vertical-align: middle;\n",
       "    }\n",
       "\n",
       "    .dataframe tbody tr th {\n",
       "        vertical-align: top;\n",
       "    }\n",
       "\n",
       "    .dataframe thead th {\n",
       "        text-align: right;\n",
       "    }\n",
       "</style>\n",
       "<table border=\"1\" class=\"dataframe\">\n",
       "  <thead>\n",
       "    <tr style=\"text-align: right;\">\n",
       "      <th></th>\n",
       "      <th>Score</th>\n",
       "    </tr>\n",
       "  </thead>\n",
       "  <tbody>\n",
       "    <tr>\n",
       "      <th>count</th>\n",
       "      <td>727.000000</td>\n",
       "    </tr>\n",
       "    <tr>\n",
       "      <th>mean</th>\n",
       "      <td>0.874711</td>\n",
       "    </tr>\n",
       "    <tr>\n",
       "      <th>std</th>\n",
       "      <td>0.080217</td>\n",
       "    </tr>\n",
       "    <tr>\n",
       "      <th>min</th>\n",
       "      <td>0.504380</td>\n",
       "    </tr>\n",
       "    <tr>\n",
       "      <th>25%</th>\n",
       "      <td>0.850278</td>\n",
       "    </tr>\n",
       "    <tr>\n",
       "      <th>50%</th>\n",
       "      <td>0.899010</td>\n",
       "    </tr>\n",
       "    <tr>\n",
       "      <th>75%</th>\n",
       "      <td>0.925961</td>\n",
       "    </tr>\n",
       "    <tr>\n",
       "      <th>max</th>\n",
       "      <td>0.973219</td>\n",
       "    </tr>\n",
       "  </tbody>\n",
       "</table>\n",
       "</div>"
      ],
      "text/plain": [
       "            Score\n",
       "count  727.000000\n",
       "mean     0.874711\n",
       "std      0.080217\n",
       "min      0.504380\n",
       "25%      0.850278\n",
       "50%      0.899010\n",
       "75%      0.925961\n",
       "max      0.973219"
      ]
     },
     "execution_count": 10,
     "metadata": {},
     "output_type": "execute_result"
    }
   ],
   "source": [
    "score.describe()"
   ]
  },
  {
   "cell_type": "code",
   "execution_count": 11,
   "metadata": {
    "scrolled": false
   },
   "outputs": [
    {
     "data": {
      "text/html": [
       "<div>\n",
       "<style scoped>\n",
       "    .dataframe tbody tr th:only-of-type {\n",
       "        vertical-align: middle;\n",
       "    }\n",
       "\n",
       "    .dataframe tbody tr th {\n",
       "        vertical-align: top;\n",
       "    }\n",
       "\n",
       "    .dataframe thead th {\n",
       "        text-align: right;\n",
       "    }\n",
       "</style>\n",
       "<table border=\"1\" class=\"dataframe\">\n",
       "  <thead>\n",
       "    <tr style=\"text-align: right;\">\n",
       "      <th></th>\n",
       "      <th>IoU</th>\n",
       "    </tr>\n",
       "  </thead>\n",
       "  <tbody>\n",
       "    <tr>\n",
       "      <th>count</th>\n",
       "      <td>727.000000</td>\n",
       "    </tr>\n",
       "    <tr>\n",
       "      <th>mean</th>\n",
       "      <td>0.872765</td>\n",
       "    </tr>\n",
       "    <tr>\n",
       "      <th>std</th>\n",
       "      <td>0.145375</td>\n",
       "    </tr>\n",
       "    <tr>\n",
       "      <th>min</th>\n",
       "      <td>0.000000</td>\n",
       "    </tr>\n",
       "    <tr>\n",
       "      <th>25%</th>\n",
       "      <td>0.871211</td>\n",
       "    </tr>\n",
       "    <tr>\n",
       "      <th>50%</th>\n",
       "      <td>0.900303</td>\n",
       "    </tr>\n",
       "    <tr>\n",
       "      <th>75%</th>\n",
       "      <td>0.928821</td>\n",
       "    </tr>\n",
       "    <tr>\n",
       "      <th>max</th>\n",
       "      <td>0.980031</td>\n",
       "    </tr>\n",
       "  </tbody>\n",
       "</table>\n",
       "</div>"
      ],
      "text/plain": [
       "              IoU\n",
       "count  727.000000\n",
       "mean     0.872765\n",
       "std      0.145375\n",
       "min      0.000000\n",
       "25%      0.871211\n",
       "50%      0.900303\n",
       "75%      0.928821\n",
       "max      0.980031"
      ]
     },
     "execution_count": 11,
     "metadata": {},
     "output_type": "execute_result"
    }
   ],
   "source": [
    "iou.describe()"
   ]
  },
  {
   "cell_type": "code",
   "execution_count": 31,
   "metadata": {
    "scrolled": false
   },
   "outputs": [
    {
     "data": {
      "text/plain": [
       "([0, 1, 2, 3, 4, 5],\n",
       " [Text(0, 0, ''),\n",
       "  Text(0, 0, ''),\n",
       "  Text(0, 0, ''),\n",
       "  Text(0, 0, ''),\n",
       "  Text(0, 0, ''),\n",
       "  Text(0, 0, '')])"
      ]
     },
     "execution_count": 31,
     "metadata": {},
     "output_type": "execute_result"
    },
    {
     "data": {
      "image/png": "[encoded data removed]",
      "text/plain": [
       "<Figure size 432x288 with 1 Axes>"
      ]
     },
     "metadata": {
      "needs_background": "light"
     },
     "output_type": "display_data"
    }
   ],
   "source": [
    "plt.scatter(df['Class Name'],score)\n",
    "plt.xlabel('Class Name')\n",
    "plt.ylabel('Confidence Score')\n",
    "plt.xticks(rotation=90)"
   ]
  },
  {
   "cell_type": "code",
   "execution_count": 30,
   "metadata": {
    "scrolled": false
   },
   "outputs": [
    {
     "data": {
      "text/plain": [
       "([0, 1, 2, 3, 4, 5],\n",
       " [Text(0, 0, ''),\n",
       "  Text(0, 0, ''),\n",
       "  Text(0, 0, ''),\n",
       "  Text(0, 0, ''),\n",
       "  Text(0, 0, ''),\n",
       "  Text(0, 0, '')])"
      ]
     },
     "execution_count": 30,
     "metadata": {},
     "output_type": "execute_result"
    },
    {
     "data": {
      "image/png": "[encoded data removed]",
      "text/plain": [
       "<Figure size 432x288 with 1 Axes>"
      ]
     },
     "metadata": {
      "needs_background": "light"
     },
     "output_type": "display_data"
    }
   ],
   "source": [
    "plt.scatter(df['Detected Class Name'],score)\n",
    "plt.xlabel('Detected Class Name')\n",
    "plt.ylabel('Confidence Score')\n",
    "plt.xticks(rotation=90)"
   ]
  },
  {
   "cell_type": "code",
   "execution_count": 44,
   "metadata": {},
   "outputs": [
    {
     "data": {
      "text/plain": [
       "([0, 1, 2, 3, 4, 5],\n",
       " [Text(0, 0, ''),\n",
       "  Text(0, 0, ''),\n",
       "  Text(0, 0, ''),\n",
       "  Text(0, 0, ''),\n",
       "  Text(0, 0, ''),\n",
       "  Text(0, 0, '')])"
      ]
     },
     "execution_count": 44,
     "metadata": {},
     "output_type": "execute_result"
    },
    {
     "data": {
      "image/png": "[encoded data removed]",
      "text/plain": [
       "<Figure size 432x288 with 1 Axes>"
      ]
     },
     "metadata": {
      "needs_background": "light"
     },
     "output_type": "display_data"
    }
   ],
   "source": [
    "plt.scatter(df['Class Name'],iou)\n",
    "plt.xlabel('Class Name')\n",
    "plt.ylabel('IoU')\n",
    "plt.xticks(rotation=90)"
   ]
  },
  {
   "cell_type": "code",
   "execution_count": 43,
   "metadata": {},
   "outputs": [
    {
     "data": {
      "text/plain": [
       "([0, 1, 2, 3, 4, 5],\n",
       " [Text(0, 0, ''),\n",
       "  Text(0, 0, ''),\n",
       "  Text(0, 0, ''),\n",
       "  Text(0, 0, ''),\n",
       "  Text(0, 0, ''),\n",
       "  Text(0, 0, '')])"
      ]
     },
     "execution_count": 43,
     "metadata": {},
     "output_type": "execute_result"
    },
    {
     "data": {
      "image/png": "[encoded data removed]",
      "text/plain": [
       "<Figure size 432x288 with 1 Axes>"
      ]
     },
     "metadata": {
      "needs_background": "light"
     },
     "output_type": "display_data"
    }
   ],
   "source": [
    "plt.scatter(df['Detected Class Name'],iou)\n",
    "plt.xlabel('Detected Class Name')\n",
    "plt.ylabel('IoU')\n",
    "plt.xticks(rotation=90)"
   ]
  }
 ],
 "metadata": {
  "kernelspec": {
   "display_name": "Python 3",
   "language": "python",
   "name": "python3"
  },
  "language_info": {
   "codemirror_mode": {
    "name": "ipython",
    "version": 3
   },
   "file_extension": ".py",
   "mimetype": "text/x-python",
   "name": "python",
   "nbconvert_exporter": "python",
   "pygments_lexer": "ipython3",
   "version": "3.8.5"
  }
 },
 "nbformat": 4,
 "nbformat_minor": 4
}
