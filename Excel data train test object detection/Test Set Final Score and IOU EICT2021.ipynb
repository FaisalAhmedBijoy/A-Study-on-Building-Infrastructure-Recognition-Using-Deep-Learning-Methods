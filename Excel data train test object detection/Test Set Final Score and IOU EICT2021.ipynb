{
 "cells": [
  {
   "cell_type": "code",
   "execution_count": 1,
   "metadata": {},
   "outputs": [],
   "source": [
    "import numpy as np\n",
    "import pandas as pd\n",
    "import matplotlib.pyplot as plt"
   ]
  },
  {
   "cell_type": "code",
   "execution_count": null,
   "metadata": {},
   "outputs": [],
   "source": []
  },
  {
   "cell_type": "markdown",
   "metadata": {},
   "source": [
    "## Import Excel File"
   ]
  },
  {
   "cell_type": "code",
   "execution_count": 2,
   "metadata": {
    "scrolled": true
   },
   "outputs": [
    {
     "data": {
      "text/html": [
       "<div>\n",
       "<style scoped>\n",
       "    .dataframe tbody tr th:only-of-type {\n",
       "        vertical-align: middle;\n",
       "    }\n",
       "\n",
       "    .dataframe tbody tr th {\n",
       "        vertical-align: top;\n",
       "    }\n",
       "\n",
       "    .dataframe thead th {\n",
       "        text-align: right;\n",
       "    }\n",
       "</style>\n",
       "<table border=\"1\" class=\"dataframe\">\n",
       "  <thead>\n",
       "    <tr style=\"text-align: right;\">\n",
       "      <th></th>\n",
       "      <th>Unnamed: 0</th>\n",
       "      <th>Class Name</th>\n",
       "      <th>Label Box</th>\n",
       "      <th>Detected Class Name</th>\n",
       "      <th>Detected Box</th>\n",
       "      <th>Score</th>\n",
       "      <th>IoU</th>\n",
       "    </tr>\n",
       "  </thead>\n",
       "  <tbody>\n",
       "    <tr>\n",
       "      <th>0</th>\n",
       "      <td>0</td>\n",
       "      <td>Building House</td>\n",
       "      <td>[203, 308, 1395, 752]</td>\n",
       "      <td>Building House</td>\n",
       "      <td>[165, 257, 1402, 747]</td>\n",
       "      <td>0.922713</td>\n",
       "      <td>0.855165</td>\n",
       "    </tr>\n",
       "    <tr>\n",
       "      <th>1</th>\n",
       "      <td>1</td>\n",
       "      <td>Building House</td>\n",
       "      <td>[249, 152, 862, 414]</td>\n",
       "      <td>Building House</td>\n",
       "      <td>[216, 176, 852, 393]</td>\n",
       "      <td>0.881272</td>\n",
       "      <td>0.780621</td>\n",
       "    </tr>\n",
       "    <tr>\n",
       "      <th>2</th>\n",
       "      <td>2</td>\n",
       "      <td>Building House</td>\n",
       "      <td>[234, 117, 1399, 904]</td>\n",
       "      <td>Building House</td>\n",
       "      <td>[172, 104, 1433, 973]</td>\n",
       "      <td>0.909382</td>\n",
       "      <td>0.836847</td>\n",
       "    </tr>\n",
       "    <tr>\n",
       "      <th>3</th>\n",
       "      <td>3</td>\n",
       "      <td>Building House</td>\n",
       "      <td>[103, 112, 547, 673]</td>\n",
       "      <td>Building House</td>\n",
       "      <td>[110, 104, 567, 726]</td>\n",
       "      <td>0.935750</td>\n",
       "      <td>0.850962</td>\n",
       "    </tr>\n",
       "    <tr>\n",
       "      <th>4</th>\n",
       "      <td>4</td>\n",
       "      <td>Building House</td>\n",
       "      <td>[117, 81, 952, 689]</td>\n",
       "      <td>Building House</td>\n",
       "      <td>[144, 53, 888, 733]</td>\n",
       "      <td>0.937436</td>\n",
       "      <td>0.806208</td>\n",
       "    </tr>\n",
       "  </tbody>\n",
       "</table>\n",
       "</div>"
      ],
      "text/plain": [
       "   Unnamed: 0      Class Name              Label Box Detected Class Name  \\\n",
       "0           0  Building House  [203, 308, 1395, 752]      Building House   \n",
       "1           1  Building House   [249, 152, 862, 414]      Building House   \n",
       "2           2  Building House  [234, 117, 1399, 904]      Building House   \n",
       "3           3  Building House   [103, 112, 547, 673]      Building House   \n",
       "4           4  Building House    [117, 81, 952, 689]      Building House   \n",
       "\n",
       "            Detected Box     Score       IoU  \n",
       "0  [165, 257, 1402, 747]  0.922713  0.855165  \n",
       "1   [216, 176, 852, 393]  0.881272  0.780621  \n",
       "2  [172, 104, 1433, 973]  0.909382  0.836847  \n",
       "3   [110, 104, 567, 726]  0.935750  0.850962  \n",
       "4    [144, 53, 888, 733]  0.937436  0.806208  "
      ]
     },
     "execution_count": 2,
     "metadata": {},
     "output_type": "execute_result"
    }
   ],
   "source": [
    "df=pd.read_csv('Test Data Evaluation.csv')\n",
    "df.head(5)\n"
   ]
  },
  {
   "cell_type": "code",
   "execution_count": 3,
   "metadata": {},
   "outputs": [
    {
     "data": {
      "text/html": [
       "<div>\n",
       "<style scoped>\n",
       "    .dataframe tbody tr th:only-of-type {\n",
       "        vertical-align: middle;\n",
       "    }\n",
       "\n",
       "    .dataframe tbody tr th {\n",
       "        vertical-align: top;\n",
       "    }\n",
       "\n",
       "    .dataframe thead th {\n",
       "        text-align: right;\n",
       "    }\n",
       "</style>\n",
       "<table border=\"1\" class=\"dataframe\">\n",
       "  <thead>\n",
       "    <tr style=\"text-align: right;\">\n",
       "      <th></th>\n",
       "      <th>Unnamed: 0</th>\n",
       "      <th>Class Name</th>\n",
       "      <th>Label Box</th>\n",
       "      <th>Detected Class Name</th>\n",
       "      <th>Detected Box</th>\n",
       "      <th>Score</th>\n",
       "      <th>IoU</th>\n",
       "    </tr>\n",
       "  </thead>\n",
       "  <tbody>\n",
       "    <tr>\n",
       "      <th>176</th>\n",
       "      <td>176</td>\n",
       "      <td>Tin-shade House</td>\n",
       "      <td>[9, 7, 255, 127]</td>\n",
       "      <td>Building House</td>\n",
       "      <td>[26, 9, 248, 123]</td>\n",
       "      <td>0.839677</td>\n",
       "      <td>0.858065</td>\n",
       "    </tr>\n",
       "    <tr>\n",
       "      <th>177</th>\n",
       "      <td>177</td>\n",
       "      <td>Tin-shade House</td>\n",
       "      <td>[21, 57, 263, 124]</td>\n",
       "      <td>Building House</td>\n",
       "      <td>[13, 55, 267, 116]</td>\n",
       "      <td>0.874374</td>\n",
       "      <td>0.821223</td>\n",
       "    </tr>\n",
       "    <tr>\n",
       "      <th>178</th>\n",
       "      <td>178</td>\n",
       "      <td>Tin-shade House</td>\n",
       "      <td>[196, 110, 1160, 465]</td>\n",
       "      <td>Building House</td>\n",
       "      <td>[206, 110, 1157, 464]</td>\n",
       "      <td>0.913457</td>\n",
       "      <td>0.983757</td>\n",
       "    </tr>\n",
       "    <tr>\n",
       "      <th>179</th>\n",
       "      <td>179</td>\n",
       "      <td>Tin-shade House</td>\n",
       "      <td>[6, 53, 231, 158]</td>\n",
       "      <td>Tin-shade House</td>\n",
       "      <td>[14, 57, 209, 154]</td>\n",
       "      <td>0.873915</td>\n",
       "      <td>0.801803</td>\n",
       "    </tr>\n",
       "    <tr>\n",
       "      <th>180</th>\n",
       "      <td>180</td>\n",
       "      <td>Tin-shade House</td>\n",
       "      <td>[141, 28, 677, 387]</td>\n",
       "      <td>Tin-shade House</td>\n",
       "      <td>[131, 24, 691, 392]</td>\n",
       "      <td>0.624678</td>\n",
       "      <td>0.933872</td>\n",
       "    </tr>\n",
       "    <tr>\n",
       "      <th>181</th>\n",
       "      <td>181</td>\n",
       "      <td>Tin-shade House</td>\n",
       "      <td>[30, 79, 574, 374]</td>\n",
       "      <td>Tin-shade House</td>\n",
       "      <td>[49, 77, 565, 376]</td>\n",
       "      <td>0.706333</td>\n",
       "      <td>0.936617</td>\n",
       "    </tr>\n",
       "    <tr>\n",
       "      <th>182</th>\n",
       "      <td>182</td>\n",
       "      <td>Tin-shade House</td>\n",
       "      <td>[50, 90, 581, 380]</td>\n",
       "      <td>Tin-shade House</td>\n",
       "      <td>[49, 77, 565, 376]</td>\n",
       "      <td>0.706333</td>\n",
       "      <td>0.915165</td>\n",
       "    </tr>\n",
       "    <tr>\n",
       "      <th>183</th>\n",
       "      <td>183</td>\n",
       "      <td>Tin-shade House</td>\n",
       "      <td>[37, 158, 432, 396]</td>\n",
       "      <td>Tin-shade House</td>\n",
       "      <td>[40, 155, 425, 398]</td>\n",
       "      <td>0.727043</td>\n",
       "      <td>0.955267</td>\n",
       "    </tr>\n",
       "    <tr>\n",
       "      <th>184</th>\n",
       "      <td>184</td>\n",
       "      <td>Tin-shade House</td>\n",
       "      <td>[27, 9, 1004, 535]</td>\n",
       "      <td>Temple</td>\n",
       "      <td>[27, 6, 1000, 558]</td>\n",
       "      <td>0.597793</td>\n",
       "      <td>0.949269</td>\n",
       "    </tr>\n",
       "    <tr>\n",
       "      <th>185</th>\n",
       "      <td>185</td>\n",
       "      <td>Tin-shade House</td>\n",
       "      <td>[9, 93, 420, 265]</td>\n",
       "      <td>Tin-shade House</td>\n",
       "      <td>[15, 95, 436, 283]</td>\n",
       "      <td>0.671263</td>\n",
       "      <td>0.850725</td>\n",
       "    </tr>\n",
       "  </tbody>\n",
       "</table>\n",
       "</div>"
      ],
      "text/plain": [
       "     Unnamed: 0       Class Name              Label Box Detected Class Name  \\\n",
       "176         176  Tin-shade House       [9, 7, 255, 127]      Building House   \n",
       "177         177  Tin-shade House     [21, 57, 263, 124]      Building House   \n",
       "178         178  Tin-shade House  [196, 110, 1160, 465]      Building House   \n",
       "179         179  Tin-shade House      [6, 53, 231, 158]     Tin-shade House   \n",
       "180         180  Tin-shade House    [141, 28, 677, 387]     Tin-shade House   \n",
       "181         181  Tin-shade House     [30, 79, 574, 374]     Tin-shade House   \n",
       "182         182  Tin-shade House     [50, 90, 581, 380]     Tin-shade House   \n",
       "183         183  Tin-shade House    [37, 158, 432, 396]     Tin-shade House   \n",
       "184         184  Tin-shade House     [27, 9, 1004, 535]              Temple   \n",
       "185         185  Tin-shade House      [9, 93, 420, 265]     Tin-shade House   \n",
       "\n",
       "              Detected Box     Score       IoU  \n",
       "176      [26, 9, 248, 123]  0.839677  0.858065  \n",
       "177     [13, 55, 267, 116]  0.874374  0.821223  \n",
       "178  [206, 110, 1157, 464]  0.913457  0.983757  \n",
       "179     [14, 57, 209, 154]  0.873915  0.801803  \n",
       "180    [131, 24, 691, 392]  0.624678  0.933872  \n",
       "181     [49, 77, 565, 376]  0.706333  0.936617  \n",
       "182     [49, 77, 565, 376]  0.706333  0.915165  \n",
       "183    [40, 155, 425, 398]  0.727043  0.955267  \n",
       "184     [27, 6, 1000, 558]  0.597793  0.949269  \n",
       "185     [15, 95, 436, 283]  0.671263  0.850725  "
      ]
     },
     "execution_count": 3,
     "metadata": {},
     "output_type": "execute_result"
    }
   ],
   "source": [
    "df.tail(10)"
   ]
  },
  {
   "cell_type": "markdown",
   "metadata": {},
   "source": [
    "## Analysis the dataset"
   ]
  },
  {
   "cell_type": "code",
   "execution_count": 4,
   "metadata": {},
   "outputs": [
    {
     "name": "stdout",
     "output_type": "stream",
     "text": [
      "<class 'pandas.core.frame.DataFrame'>\n",
      "RangeIndex: 186 entries, 0 to 185\n",
      "Data columns (total 7 columns):\n",
      " #   Column               Non-Null Count  Dtype  \n",
      "---  ------               --------------  -----  \n",
      " 0   Unnamed: 0           186 non-null    int64  \n",
      " 1   Class Name           186 non-null    object \n",
      " 2   Label Box            186 non-null    object \n",
      " 3   Detected Class Name  186 non-null    object \n",
      " 4   Detected Box         186 non-null    object \n",
      " 5   Score                186 non-null    float64\n",
      " 6   IoU                  186 non-null    float64\n",
      "dtypes: float64(2), int64(1), object(4)\n",
      "memory usage: 10.3+ KB\n"
     ]
    }
   ],
   "source": [
    "df.info()"
   ]
  },
  {
   "cell_type": "code",
   "execution_count": 5,
   "metadata": {
    "scrolled": false
   },
   "outputs": [
    {
     "data": {
      "text/html": [
       "<div>\n",
       "<style scoped>\n",
       "    .dataframe tbody tr th:only-of-type {\n",
       "        vertical-align: middle;\n",
       "    }\n",
       "\n",
       "    .dataframe tbody tr th {\n",
       "        vertical-align: top;\n",
       "    }\n",
       "\n",
       "    .dataframe thead th {\n",
       "        text-align: right;\n",
       "    }\n",
       "</style>\n",
       "<table border=\"1\" class=\"dataframe\">\n",
       "  <thead>\n",
       "    <tr style=\"text-align: right;\">\n",
       "      <th></th>\n",
       "      <th>Unnamed: 0</th>\n",
       "      <th>Score</th>\n",
       "      <th>IoU</th>\n",
       "    </tr>\n",
       "  </thead>\n",
       "  <tbody>\n",
       "    <tr>\n",
       "      <th>count</th>\n",
       "      <td>186.000000</td>\n",
       "      <td>186.000000</td>\n",
       "      <td>186.000000</td>\n",
       "    </tr>\n",
       "    <tr>\n",
       "      <th>mean</th>\n",
       "      <td>92.500000</td>\n",
       "      <td>0.809371</td>\n",
       "      <td>0.734335</td>\n",
       "    </tr>\n",
       "    <tr>\n",
       "      <th>std</th>\n",
       "      <td>53.837719</td>\n",
       "      <td>0.111804</td>\n",
       "      <td>0.249163</td>\n",
       "    </tr>\n",
       "    <tr>\n",
       "      <th>min</th>\n",
       "      <td>0.000000</td>\n",
       "      <td>0.510793</td>\n",
       "      <td>0.000000</td>\n",
       "    </tr>\n",
       "    <tr>\n",
       "      <th>25%</th>\n",
       "      <td>46.250000</td>\n",
       "      <td>0.745212</td>\n",
       "      <td>0.727566</td>\n",
       "    </tr>\n",
       "    <tr>\n",
       "      <th>50%</th>\n",
       "      <td>92.500000</td>\n",
       "      <td>0.839241</td>\n",
       "      <td>0.829370</td>\n",
       "    </tr>\n",
       "    <tr>\n",
       "      <th>75%</th>\n",
       "      <td>138.750000</td>\n",
       "      <td>0.894339</td>\n",
       "      <td>0.882398</td>\n",
       "    </tr>\n",
       "    <tr>\n",
       "      <th>max</th>\n",
       "      <td>185.000000</td>\n",
       "      <td>0.971102</td>\n",
       "      <td>0.983757</td>\n",
       "    </tr>\n",
       "  </tbody>\n",
       "</table>\n",
       "</div>"
      ],
      "text/plain": [
       "       Unnamed: 0       Score         IoU\n",
       "count  186.000000  186.000000  186.000000\n",
       "mean    92.500000    0.809371    0.734335\n",
       "std     53.837719    0.111804    0.249163\n",
       "min      0.000000    0.510793    0.000000\n",
       "25%     46.250000    0.745212    0.727566\n",
       "50%     92.500000    0.839241    0.829370\n",
       "75%    138.750000    0.894339    0.882398\n",
       "max    185.000000    0.971102    0.983757"
      ]
     },
     "execution_count": 5,
     "metadata": {},
     "output_type": "execute_result"
    }
   ],
   "source": [
    "df.describe()"
   ]
  },
  {
   "cell_type": "code",
   "execution_count": 6,
   "metadata": {},
   "outputs": [
    {
     "data": {
      "text/plain": [
       "0       True\n",
       "1       True\n",
       "2       True\n",
       "3       True\n",
       "4       True\n",
       "       ...  \n",
       "181     True\n",
       "182     True\n",
       "183     True\n",
       "184    False\n",
       "185     True\n",
       "Length: 186, dtype: bool"
      ]
     },
     "execution_count": 6,
     "metadata": {},
     "output_type": "execute_result"
    }
   ],
   "source": [
    "df['Class Name'] == df['Detected Class Name'] "
   ]
  },
  {
   "cell_type": "markdown",
   "metadata": {},
   "source": [
    "## Score and IoU"
   ]
  },
  {
   "cell_type": "code",
   "execution_count": 7,
   "metadata": {},
   "outputs": [],
   "source": [
    "score=df[['Score']]\n",
    "iou=df[['IoU']]"
   ]
  },
  {
   "cell_type": "code",
   "execution_count": 8,
   "metadata": {},
   "outputs": [
    {
     "data": {
      "text/html": [
       "<div>\n",
       "<style scoped>\n",
       "    .dataframe tbody tr th:only-of-type {\n",
       "        vertical-align: middle;\n",
       "    }\n",
       "\n",
       "    .dataframe tbody tr th {\n",
       "        vertical-align: top;\n",
       "    }\n",
       "\n",
       "    .dataframe thead th {\n",
       "        text-align: right;\n",
       "    }\n",
       "</style>\n",
       "<table border=\"1\" class=\"dataframe\">\n",
       "  <thead>\n",
       "    <tr style=\"text-align: right;\">\n",
       "      <th></th>\n",
       "      <th>Score</th>\n",
       "      <th>IoU</th>\n",
       "    </tr>\n",
       "  </thead>\n",
       "  <tbody>\n",
       "    <tr>\n",
       "      <th>0</th>\n",
       "      <td>0.922713</td>\n",
       "      <td>0.855165</td>\n",
       "    </tr>\n",
       "    <tr>\n",
       "      <th>1</th>\n",
       "      <td>0.881272</td>\n",
       "      <td>0.780621</td>\n",
       "    </tr>\n",
       "    <tr>\n",
       "      <th>2</th>\n",
       "      <td>0.909382</td>\n",
       "      <td>0.836847</td>\n",
       "    </tr>\n",
       "    <tr>\n",
       "      <th>3</th>\n",
       "      <td>0.935750</td>\n",
       "      <td>0.850962</td>\n",
       "    </tr>\n",
       "    <tr>\n",
       "      <th>4</th>\n",
       "      <td>0.937436</td>\n",
       "      <td>0.806208</td>\n",
       "    </tr>\n",
       "  </tbody>\n",
       "</table>\n",
       "</div>"
      ],
      "text/plain": [
       "      Score       IoU\n",
       "0  0.922713  0.855165\n",
       "1  0.881272  0.780621\n",
       "2  0.909382  0.836847\n",
       "3  0.935750  0.850962\n",
       "4  0.937436  0.806208"
      ]
     },
     "execution_count": 8,
     "metadata": {},
     "output_type": "execute_result"
    }
   ],
   "source": [
    "df[['Score','IoU']].head()"
   ]
  },
  {
   "cell_type": "code",
   "execution_count": 9,
   "metadata": {
    "scrolled": true
   },
   "outputs": [
    {
     "data": {
      "text/html": [
       "<div>\n",
       "<style scoped>\n",
       "    .dataframe tbody tr th:only-of-type {\n",
       "        vertical-align: middle;\n",
       "    }\n",
       "\n",
       "    .dataframe tbody tr th {\n",
       "        vertical-align: top;\n",
       "    }\n",
       "\n",
       "    .dataframe thead th {\n",
       "        text-align: right;\n",
       "    }\n",
       "</style>\n",
       "<table border=\"1\" class=\"dataframe\">\n",
       "  <thead>\n",
       "    <tr style=\"text-align: right;\">\n",
       "      <th></th>\n",
       "      <th>Score</th>\n",
       "    </tr>\n",
       "  </thead>\n",
       "  <tbody>\n",
       "    <tr>\n",
       "      <th>0</th>\n",
       "      <td>0.922713</td>\n",
       "    </tr>\n",
       "    <tr>\n",
       "      <th>1</th>\n",
       "      <td>0.881272</td>\n",
       "    </tr>\n",
       "    <tr>\n",
       "      <th>2</th>\n",
       "      <td>0.909382</td>\n",
       "    </tr>\n",
       "    <tr>\n",
       "      <th>3</th>\n",
       "      <td>0.935750</td>\n",
       "    </tr>\n",
       "    <tr>\n",
       "      <th>4</th>\n",
       "      <td>0.937436</td>\n",
       "    </tr>\n",
       "  </tbody>\n",
       "</table>\n",
       "</div>"
      ],
      "text/plain": [
       "      Score\n",
       "0  0.922713\n",
       "1  0.881272\n",
       "2  0.909382\n",
       "3  0.935750\n",
       "4  0.937436"
      ]
     },
     "execution_count": 9,
     "metadata": {},
     "output_type": "execute_result"
    }
   ],
   "source": [
    "score.head()"
   ]
  },
  {
   "cell_type": "code",
   "execution_count": 10,
   "metadata": {},
   "outputs": [
    {
     "data": {
      "text/html": [
       "<div>\n",
       "<style scoped>\n",
       "    .dataframe tbody tr th:only-of-type {\n",
       "        vertical-align: middle;\n",
       "    }\n",
       "\n",
       "    .dataframe tbody tr th {\n",
       "        vertical-align: top;\n",
       "    }\n",
       "\n",
       "    .dataframe thead th {\n",
       "        text-align: right;\n",
       "    }\n",
       "</style>\n",
       "<table border=\"1\" class=\"dataframe\">\n",
       "  <thead>\n",
       "    <tr style=\"text-align: right;\">\n",
       "      <th></th>\n",
       "      <th>IoU</th>\n",
       "    </tr>\n",
       "  </thead>\n",
       "  <tbody>\n",
       "    <tr>\n",
       "      <th>0</th>\n",
       "      <td>0.855165</td>\n",
       "    </tr>\n",
       "    <tr>\n",
       "      <th>1</th>\n",
       "      <td>0.780621</td>\n",
       "    </tr>\n",
       "    <tr>\n",
       "      <th>2</th>\n",
       "      <td>0.836847</td>\n",
       "    </tr>\n",
       "    <tr>\n",
       "      <th>3</th>\n",
       "      <td>0.850962</td>\n",
       "    </tr>\n",
       "    <tr>\n",
       "      <th>4</th>\n",
       "      <td>0.806208</td>\n",
       "    </tr>\n",
       "  </tbody>\n",
       "</table>\n",
       "</div>"
      ],
      "text/plain": [
       "        IoU\n",
       "0  0.855165\n",
       "1  0.780621\n",
       "2  0.836847\n",
       "3  0.850962\n",
       "4  0.806208"
      ]
     },
     "execution_count": 10,
     "metadata": {},
     "output_type": "execute_result"
    }
   ],
   "source": [
    "iou.head()"
   ]
  },
  {
   "cell_type": "code",
   "execution_count": 11,
   "metadata": {
    "scrolled": true
   },
   "outputs": [
    {
     "data": {
      "text/plain": [
       "Text(0, 0.5, 'IoU')"
      ]
     },
     "execution_count": 11,
     "metadata": {},
     "output_type": "execute_result"
    },
    {
     "data": {
      "image/png": "[encoded data removed]",
      "text/plain": [
       "<Figure size 432x288 with 1 Axes>"
      ]
     },
     "metadata": {
      "needs_background": "light"
     },
     "output_type": "display_data"
    }
   ],
   "source": [
    "plt.scatter(score,iou)\n",
    "plt.xlabel('confidence score')\n",
    "plt.ylabel('IoU')\n"
   ]
  },
  {
   "cell_type": "code",
   "execution_count": 12,
   "metadata": {
    "scrolled": true
   },
   "outputs": [
    {
     "data": {
      "text/html": [
       "<div>\n",
       "<style scoped>\n",
       "    .dataframe tbody tr th:only-of-type {\n",
       "        vertical-align: middle;\n",
       "    }\n",
       "\n",
       "    .dataframe tbody tr th {\n",
       "        vertical-align: top;\n",
       "    }\n",
       "\n",
       "    .dataframe thead th {\n",
       "        text-align: right;\n",
       "    }\n",
       "</style>\n",
       "<table border=\"1\" class=\"dataframe\">\n",
       "  <thead>\n",
       "    <tr style=\"text-align: right;\">\n",
       "      <th></th>\n",
       "      <th>Score</th>\n",
       "    </tr>\n",
       "  </thead>\n",
       "  <tbody>\n",
       "    <tr>\n",
       "      <th>count</th>\n",
       "      <td>186.000000</td>\n",
       "    </tr>\n",
       "    <tr>\n",
       "      <th>mean</th>\n",
       "      <td>0.809371</td>\n",
       "    </tr>\n",
       "    <tr>\n",
       "      <th>std</th>\n",
       "      <td>0.111804</td>\n",
       "    </tr>\n",
       "    <tr>\n",
       "      <th>min</th>\n",
       "      <td>0.510793</td>\n",
       "    </tr>\n",
       "    <tr>\n",
       "      <th>25%</th>\n",
       "      <td>0.745212</td>\n",
       "    </tr>\n",
       "    <tr>\n",
       "      <th>50%</th>\n",
       "      <td>0.839241</td>\n",
       "    </tr>\n",
       "    <tr>\n",
       "      <th>75%</th>\n",
       "      <td>0.894339</td>\n",
       "    </tr>\n",
       "    <tr>\n",
       "      <th>max</th>\n",
       "      <td>0.971102</td>\n",
       "    </tr>\n",
       "  </tbody>\n",
       "</table>\n",
       "</div>"
      ],
      "text/plain": [
       "            Score\n",
       "count  186.000000\n",
       "mean     0.809371\n",
       "std      0.111804\n",
       "min      0.510793\n",
       "25%      0.745212\n",
       "50%      0.839241\n",
       "75%      0.894339\n",
       "max      0.971102"
      ]
     },
     "execution_count": 12,
     "metadata": {},
     "output_type": "execute_result"
    }
   ],
   "source": [
    "score.describe()"
   ]
  },
  {
   "cell_type": "code",
   "execution_count": 13,
   "metadata": {
    "scrolled": false
   },
   "outputs": [
    {
     "data": {
      "text/html": [
       "<div>\n",
       "<style scoped>\n",
       "    .dataframe tbody tr th:only-of-type {\n",
       "        vertical-align: middle;\n",
       "    }\n",
       "\n",
       "    .dataframe tbody tr th {\n",
       "        vertical-align: top;\n",
       "    }\n",
       "\n",
       "    .dataframe thead th {\n",
       "        text-align: right;\n",
       "    }\n",
       "</style>\n",
       "<table border=\"1\" class=\"dataframe\">\n",
       "  <thead>\n",
       "    <tr style=\"text-align: right;\">\n",
       "      <th></th>\n",
       "      <th>IoU</th>\n",
       "    </tr>\n",
       "  </thead>\n",
       "  <tbody>\n",
       "    <tr>\n",
       "      <th>count</th>\n",
       "      <td>186.000000</td>\n",
       "    </tr>\n",
       "    <tr>\n",
       "      <th>mean</th>\n",
       "      <td>0.734335</td>\n",
       "    </tr>\n",
       "    <tr>\n",
       "      <th>std</th>\n",
       "      <td>0.249163</td>\n",
       "    </tr>\n",
       "    <tr>\n",
       "      <th>min</th>\n",
       "      <td>0.000000</td>\n",
       "    </tr>\n",
       "    <tr>\n",
       "      <th>25%</th>\n",
       "      <td>0.727566</td>\n",
       "    </tr>\n",
       "    <tr>\n",
       "      <th>50%</th>\n",
       "      <td>0.829370</td>\n",
       "    </tr>\n",
       "    <tr>\n",
       "      <th>75%</th>\n",
       "      <td>0.882398</td>\n",
       "    </tr>\n",
       "    <tr>\n",
       "      <th>max</th>\n",
       "      <td>0.983757</td>\n",
       "    </tr>\n",
       "  </tbody>\n",
       "</table>\n",
       "</div>"
      ],
      "text/plain": [
       "              IoU\n",
       "count  186.000000\n",
       "mean     0.734335\n",
       "std      0.249163\n",
       "min      0.000000\n",
       "25%      0.727566\n",
       "50%      0.829370\n",
       "75%      0.882398\n",
       "max      0.983757"
      ]
     },
     "execution_count": 13,
     "metadata": {},
     "output_type": "execute_result"
    }
   ],
   "source": [
    "iou.describe()"
   ]
  },
  {
   "cell_type": "code",
   "execution_count": 14,
   "metadata": {
    "scrolled": false
   },
   "outputs": [
    {
     "data": {
      "text/plain": [
       "([0, 1, 2, 3, 4, 5],\n",
       " [Text(0, 0, ''),\n",
       "  Text(0, 0, ''),\n",
       "  Text(0, 0, ''),\n",
       "  Text(0, 0, ''),\n",
       "  Text(0, 0, ''),\n",
       "  Text(0, 0, '')])"
      ]
     },
     "execution_count": 14,
     "metadata": {},
     "output_type": "execute_result"
    },
    {
     "data": {
      "image/png": "[encoded data removed]",
      "text/plain": [
       "<Figure size 432x288 with 1 Axes>"
      ]
     },
     "metadata": {
      "needs_background": "light"
     },
     "output_type": "display_data"
    }
   ],
   "source": [
    "plt.scatter(df['Class Name'],score)\n",
    "plt.xlabel('Class Name')\n",
    "plt.ylabel('Confidence Score')\n",
    "plt.xticks(rotation=90)"
   ]
  },
  {
   "cell_type": "code",
   "execution_count": 15,
   "metadata": {
    "scrolled": false
   },
   "outputs": [
    {
     "data": {
      "text/plain": [
       "([0, 1, 2, 3, 4, 5],\n",
       " [Text(0, 0, ''),\n",
       "  Text(0, 0, ''),\n",
       "  Text(0, 0, ''),\n",
       "  Text(0, 0, ''),\n",
       "  Text(0, 0, ''),\n",
       "  Text(0, 0, '')])"
      ]
     },
     "execution_count": 15,
     "metadata": {},
     "output_type": "execute_result"
    },
    {
     "data": {
      "image/png": "[encoded data removed]",
      "text/plain": [
       "<Figure size 432x288 with 1 Axes>"
      ]
     },
     "metadata": {
      "needs_background": "light"
     },
     "output_type": "display_data"
    }
   ],
   "source": [
    "plt.scatter(df['Detected Class Name'],score)\n",
    "plt.xlabel('Detected Class Name')\n",
    "plt.ylabel('Confidence Score')\n",
    "plt.xticks(rotation=90)"
   ]
  },
  {
   "cell_type": "code",
   "execution_count": 16,
   "metadata": {},
   "outputs": [
    {
     "data": {
      "text/plain": [
       "([0, 1, 2, 3, 4, 5],\n",
       " [Text(0, 0, ''),\n",
       "  Text(0, 0, ''),\n",
       "  Text(0, 0, ''),\n",
       "  Text(0, 0, ''),\n",
       "  Text(0, 0, ''),\n",
       "  Text(0, 0, '')])"
      ]
     },
     "execution_count": 16,
     "metadata": {},
     "output_type": "execute_result"
    },
    {
     "data": {
      "image/png": "[encoded data removed]",
      "text/plain": [
       "<Figure size 432x288 with 1 Axes>"
      ]
     },
     "metadata": {
      "needs_background": "light"
     },
     "output_type": "display_data"
    }
   ],
   "source": [
    "plt.scatter(df['Class Name'],iou)\n",
    "plt.xlabel('Class Name')\n",
    "plt.ylabel('Confidence Score')\n",
    "plt.xticks(rotation=90)"
   ]
  },
  {
   "cell_type": "code",
   "execution_count": 17,
   "metadata": {
    "scrolled": false
   },
   "outputs": [
    {
     "data": {
      "text/plain": [
       "([0, 1, 2, 3, 4, 5],\n",
       " [Text(0, 0, ''),\n",
       "  Text(0, 0, ''),\n",
       "  Text(0, 0, ''),\n",
       "  Text(0, 0, ''),\n",
       "  Text(0, 0, ''),\n",
       "  Text(0, 0, '')])"
      ]
     },
     "execution_count": 17,
     "metadata": {},
     "output_type": "execute_result"
    },
    {
     "data": {
      "image/png": "[encoded data removed]",
      "text/plain": [
       "<Figure size 432x288 with 1 Axes>"
      ]
     },
     "metadata": {
      "needs_background": "light"
     },
     "output_type": "display_data"
    }
   ],
   "source": [
    "plt.scatter(df['Detected Class Name'],iou)\n",
    "plt.xlabel('Detected Class Name')\n",
    "plt.ylabel('IoU')\n",
    "plt.xticks(rotation=90)"
   ]
  },
  {
   "cell_type": "markdown",
   "metadata": {},
   "source": [
    "## Precision Recall Calculation"
   ]
  },
  {
   "cell_type": "code",
   "execution_count": 18,
   "metadata": {},
   "outputs": [],
   "source": [
    "new_df=df"
   ]
  },
  {
   "cell_type": "code",
   "execution_count": null,
   "metadata": {},
   "outputs": [],
   "source": []
  },
  {
   "cell_type": "code",
   "execution_count": 19,
   "metadata": {
    "scrolled": false
   },
   "outputs": [
    {
     "data": {
      "text/html": [
       "<div>\n",
       "<style scoped>\n",
       "    .dataframe tbody tr th:only-of-type {\n",
       "        vertical-align: middle;\n",
       "    }\n",
       "\n",
       "    .dataframe tbody tr th {\n",
       "        vertical-align: top;\n",
       "    }\n",
       "\n",
       "    .dataframe thead th {\n",
       "        text-align: right;\n",
       "    }\n",
       "</style>\n",
       "<table border=\"1\" class=\"dataframe\">\n",
       "  <thead>\n",
       "    <tr style=\"text-align: right;\">\n",
       "      <th></th>\n",
       "      <th>Unnamed: 0</th>\n",
       "      <th>Class Name</th>\n",
       "      <th>Label Box</th>\n",
       "      <th>Detected Class Name</th>\n",
       "      <th>Detected Box</th>\n",
       "      <th>Score</th>\n",
       "      <th>IoU</th>\n",
       "    </tr>\n",
       "  </thead>\n",
       "  <tbody>\n",
       "    <tr>\n",
       "      <th>0</th>\n",
       "      <td>0</td>\n",
       "      <td>Building House</td>\n",
       "      <td>[203, 308, 1395, 752]</td>\n",
       "      <td>Building House</td>\n",
       "      <td>[165, 257, 1402, 747]</td>\n",
       "      <td>0.922713</td>\n",
       "      <td>0.855165</td>\n",
       "    </tr>\n",
       "    <tr>\n",
       "      <th>1</th>\n",
       "      <td>1</td>\n",
       "      <td>Building House</td>\n",
       "      <td>[249, 152, 862, 414]</td>\n",
       "      <td>Building House</td>\n",
       "      <td>[216, 176, 852, 393]</td>\n",
       "      <td>0.881272</td>\n",
       "      <td>0.780621</td>\n",
       "    </tr>\n",
       "    <tr>\n",
       "      <th>2</th>\n",
       "      <td>2</td>\n",
       "      <td>Building House</td>\n",
       "      <td>[234, 117, 1399, 904]</td>\n",
       "      <td>Building House</td>\n",
       "      <td>[172, 104, 1433, 973]</td>\n",
       "      <td>0.909382</td>\n",
       "      <td>0.836847</td>\n",
       "    </tr>\n",
       "    <tr>\n",
       "      <th>3</th>\n",
       "      <td>3</td>\n",
       "      <td>Building House</td>\n",
       "      <td>[103, 112, 547, 673]</td>\n",
       "      <td>Building House</td>\n",
       "      <td>[110, 104, 567, 726]</td>\n",
       "      <td>0.935750</td>\n",
       "      <td>0.850962</td>\n",
       "    </tr>\n",
       "    <tr>\n",
       "      <th>4</th>\n",
       "      <td>4</td>\n",
       "      <td>Building House</td>\n",
       "      <td>[117, 81, 952, 689]</td>\n",
       "      <td>Building House</td>\n",
       "      <td>[144, 53, 888, 733]</td>\n",
       "      <td>0.937436</td>\n",
       "      <td>0.806208</td>\n",
       "    </tr>\n",
       "  </tbody>\n",
       "</table>\n",
       "</div>"
      ],
      "text/plain": [
       "   Unnamed: 0      Class Name              Label Box Detected Class Name  \\\n",
       "0           0  Building House  [203, 308, 1395, 752]      Building House   \n",
       "1           1  Building House   [249, 152, 862, 414]      Building House   \n",
       "2           2  Building House  [234, 117, 1399, 904]      Building House   \n",
       "3           3  Building House   [103, 112, 547, 673]      Building House   \n",
       "4           4  Building House    [117, 81, 952, 689]      Building House   \n",
       "\n",
       "            Detected Box     Score       IoU  \n",
       "0  [165, 257, 1402, 747]  0.922713  0.855165  \n",
       "1   [216, 176, 852, 393]  0.881272  0.780621  \n",
       "2  [172, 104, 1433, 973]  0.909382  0.836847  \n",
       "3   [110, 104, 567, 726]  0.935750  0.850962  \n",
       "4    [144, 53, 888, 733]  0.937436  0.806208  "
      ]
     },
     "execution_count": 19,
     "metadata": {},
     "output_type": "execute_result"
    }
   ],
   "source": [
    "new_df.sort_values(by='Score',ascending=False)\n",
    "new_df.head()"
   ]
  },
  {
   "cell_type": "code",
   "execution_count": 20,
   "metadata": {
    "scrolled": true
   },
   "outputs": [
    {
     "data": {
      "text/plain": [
       "0       True\n",
       "1       True\n",
       "2       True\n",
       "3       True\n",
       "4       True\n",
       "       ...  \n",
       "181     True\n",
       "182     True\n",
       "183     True\n",
       "184    False\n",
       "185     True\n",
       "Length: 186, dtype: bool"
      ]
     },
     "execution_count": 20,
     "metadata": {},
     "output_type": "execute_result"
    }
   ],
   "source": [
    "new_df['Class Name'] == new_df['Detected Class Name']"
   ]
  },
  {
   "cell_type": "code",
   "execution_count": 21,
   "metadata": {},
   "outputs": [],
   "source": [
    "new_df['ResultDetect']=np.where(new_df['Class Name']==new_df['Detected Class Name'],True,False)"
   ]
  },
  {
   "cell_type": "code",
   "execution_count": 22,
   "metadata": {
    "scrolled": false
   },
   "outputs": [
    {
     "data": {
      "text/html": [
       "<div>\n",
       "<style scoped>\n",
       "    .dataframe tbody tr th:only-of-type {\n",
       "        vertical-align: middle;\n",
       "    }\n",
       "\n",
       "    .dataframe tbody tr th {\n",
       "        vertical-align: top;\n",
       "    }\n",
       "\n",
       "    .dataframe thead th {\n",
       "        text-align: right;\n",
       "    }\n",
       "</style>\n",
       "<table border=\"1\" class=\"dataframe\">\n",
       "  <thead>\n",
       "    <tr style=\"text-align: right;\">\n",
       "      <th></th>\n",
       "      <th>Unnamed: 0</th>\n",
       "      <th>Class Name</th>\n",
       "      <th>Label Box</th>\n",
       "      <th>Detected Class Name</th>\n",
       "      <th>Detected Box</th>\n",
       "      <th>Score</th>\n",
       "      <th>IoU</th>\n",
       "      <th>ResultDetect</th>\n",
       "    </tr>\n",
       "  </thead>\n",
       "  <tbody>\n",
       "    <tr>\n",
       "      <th>181</th>\n",
       "      <td>181</td>\n",
       "      <td>Tin-shade House</td>\n",
       "      <td>[30, 79, 574, 374]</td>\n",
       "      <td>Tin-shade House</td>\n",
       "      <td>[49, 77, 565, 376]</td>\n",
       "      <td>0.706333</td>\n",
       "      <td>0.936617</td>\n",
       "      <td>True</td>\n",
       "    </tr>\n",
       "    <tr>\n",
       "      <th>182</th>\n",
       "      <td>182</td>\n",
       "      <td>Tin-shade House</td>\n",
       "      <td>[50, 90, 581, 380]</td>\n",
       "      <td>Tin-shade House</td>\n",
       "      <td>[49, 77, 565, 376]</td>\n",
       "      <td>0.706333</td>\n",
       "      <td>0.915165</td>\n",
       "      <td>True</td>\n",
       "    </tr>\n",
       "    <tr>\n",
       "      <th>183</th>\n",
       "      <td>183</td>\n",
       "      <td>Tin-shade House</td>\n",
       "      <td>[37, 158, 432, 396]</td>\n",
       "      <td>Tin-shade House</td>\n",
       "      <td>[40, 155, 425, 398]</td>\n",
       "      <td>0.727043</td>\n",
       "      <td>0.955267</td>\n",
       "      <td>True</td>\n",
       "    </tr>\n",
       "    <tr>\n",
       "      <th>184</th>\n",
       "      <td>184</td>\n",
       "      <td>Tin-shade House</td>\n",
       "      <td>[27, 9, 1004, 535]</td>\n",
       "      <td>Temple</td>\n",
       "      <td>[27, 6, 1000, 558]</td>\n",
       "      <td>0.597793</td>\n",
       "      <td>0.949269</td>\n",
       "      <td>False</td>\n",
       "    </tr>\n",
       "    <tr>\n",
       "      <th>185</th>\n",
       "      <td>185</td>\n",
       "      <td>Tin-shade House</td>\n",
       "      <td>[9, 93, 420, 265]</td>\n",
       "      <td>Tin-shade House</td>\n",
       "      <td>[15, 95, 436, 283]</td>\n",
       "      <td>0.671263</td>\n",
       "      <td>0.850725</td>\n",
       "      <td>True</td>\n",
       "    </tr>\n",
       "  </tbody>\n",
       "</table>\n",
       "</div>"
      ],
      "text/plain": [
       "     Unnamed: 0       Class Name            Label Box Detected Class Name  \\\n",
       "181         181  Tin-shade House   [30, 79, 574, 374]     Tin-shade House   \n",
       "182         182  Tin-shade House   [50, 90, 581, 380]     Tin-shade House   \n",
       "183         183  Tin-shade House  [37, 158, 432, 396]     Tin-shade House   \n",
       "184         184  Tin-shade House   [27, 9, 1004, 535]              Temple   \n",
       "185         185  Tin-shade House    [9, 93, 420, 265]     Tin-shade House   \n",
       "\n",
       "            Detected Box     Score       IoU  ResultDetect  \n",
       "181   [49, 77, 565, 376]  0.706333  0.936617          True  \n",
       "182   [49, 77, 565, 376]  0.706333  0.915165          True  \n",
       "183  [40, 155, 425, 398]  0.727043  0.955267          True  \n",
       "184   [27, 6, 1000, 558]  0.597793  0.949269         False  \n",
       "185   [15, 95, 436, 283]  0.671263  0.850725          True  "
      ]
     },
     "execution_count": 22,
     "metadata": {},
     "output_type": "execute_result"
    }
   ],
   "source": [
    "new_df.tail()"
   ]
  },
  {
   "cell_type": "code",
   "execution_count": 23,
   "metadata": {},
   "outputs": [],
   "source": [
    "total_correct=0\n",
    "total_incorrect=0"
   ]
  },
  {
   "cell_type": "code",
   "execution_count": 24,
   "metadata": {},
   "outputs": [
    {
     "name": "stdout",
     "output_type": "stream",
     "text": [
      "Total Correct:  162\n"
     ]
    }
   ],
   "source": [
    "total_correct=(new_df['ResultDetect']==True).sum()\n",
    "print(\"Total Correct: \",total_correct)"
   ]
  },
  {
   "cell_type": "code",
   "execution_count": 25,
   "metadata": {},
   "outputs": [
    {
     "name": "stdout",
     "output_type": "stream",
     "text": [
      "Total Incorrect:  24\n"
     ]
    }
   ],
   "source": [
    "total_incorrect=(new_df['ResultDetect']==False).sum()\n",
    "print(\"Total Incorrect: \",total_incorrect)"
   ]
  },
  {
   "cell_type": "markdown",
   "metadata": {},
   "source": [
    "## Calculte the correct and incorrect percentage"
   ]
  },
  {
   "cell_type": "code",
   "execution_count": 26,
   "metadata": {},
   "outputs": [
    {
     "name": "stdout",
     "output_type": "stream",
     "text": [
      "Total data:  186\n"
     ]
    }
   ],
   "source": [
    "total_data=new_df['ResultDetect'].count()\n",
    "print(\"Total data: \",total_data)"
   ]
  },
  {
   "cell_type": "code",
   "execution_count": 27,
   "metadata": {
    "scrolled": true
   },
   "outputs": [
    {
     "name": "stdout",
     "output_type": "stream",
     "text": [
      "Percentage:  87.09677419354838\n"
     ]
    }
   ],
   "source": [
    "percentage=total_correct/total_data\n",
    "print(\"Percentage: \",percentage*100)"
   ]
  },
  {
   "cell_type": "markdown",
   "metadata": {},
   "source": [
    "## New pandas dataframe without the incorrect data in Result Detection\n",
    "- Confidence Score\n",
    "- Intersection of Union (IoU)"
   ]
  },
  {
   "cell_type": "code",
   "execution_count": 28,
   "metadata": {
    "scrolled": true
   },
   "outputs": [
    {
     "data": {
      "text/html": [
       "<div>\n",
       "<style scoped>\n",
       "    .dataframe tbody tr th:only-of-type {\n",
       "        vertical-align: middle;\n",
       "    }\n",
       "\n",
       "    .dataframe tbody tr th {\n",
       "        vertical-align: top;\n",
       "    }\n",
       "\n",
       "    .dataframe thead th {\n",
       "        text-align: right;\n",
       "    }\n",
       "</style>\n",
       "<table border=\"1\" class=\"dataframe\">\n",
       "  <thead>\n",
       "    <tr style=\"text-align: right;\">\n",
       "      <th></th>\n",
       "      <th>Unnamed: 0</th>\n",
       "      <th>Score</th>\n",
       "      <th>IoU</th>\n",
       "    </tr>\n",
       "  </thead>\n",
       "  <tbody>\n",
       "    <tr>\n",
       "      <th>count</th>\n",
       "      <td>162.000000</td>\n",
       "      <td>162.000000</td>\n",
       "      <td>162.000000</td>\n",
       "    </tr>\n",
       "    <tr>\n",
       "      <th>mean</th>\n",
       "      <td>89.283951</td>\n",
       "      <td>0.816581</td>\n",
       "      <td>0.734462</td>\n",
       "    </tr>\n",
       "    <tr>\n",
       "      <th>std</th>\n",
       "      <td>52.491167</td>\n",
       "      <td>0.110269</td>\n",
       "      <td>0.247687</td>\n",
       "    </tr>\n",
       "    <tr>\n",
       "      <th>min</th>\n",
       "      <td>0.000000</td>\n",
       "      <td>0.510793</td>\n",
       "      <td>0.000000</td>\n",
       "    </tr>\n",
       "    <tr>\n",
       "      <th>25%</th>\n",
       "      <td>45.250000</td>\n",
       "      <td>0.763714</td>\n",
       "      <td>0.726873</td>\n",
       "    </tr>\n",
       "    <tr>\n",
       "      <th>50%</th>\n",
       "      <td>91.500000</td>\n",
       "      <td>0.841975</td>\n",
       "      <td>0.829370</td>\n",
       "    </tr>\n",
       "    <tr>\n",
       "      <th>75%</th>\n",
       "      <td>133.750000</td>\n",
       "      <td>0.903559</td>\n",
       "      <td>0.882398</td>\n",
       "    </tr>\n",
       "    <tr>\n",
       "      <th>max</th>\n",
       "      <td>185.000000</td>\n",
       "      <td>0.971102</td>\n",
       "      <td>0.963739</td>\n",
       "    </tr>\n",
       "  </tbody>\n",
       "</table>\n",
       "</div>"
      ],
      "text/plain": [
       "       Unnamed: 0       Score         IoU\n",
       "count  162.000000  162.000000  162.000000\n",
       "mean    89.283951    0.816581    0.734462\n",
       "std     52.491167    0.110269    0.247687\n",
       "min      0.000000    0.510793    0.000000\n",
       "25%     45.250000    0.763714    0.726873\n",
       "50%     91.500000    0.841975    0.829370\n",
       "75%    133.750000    0.903559    0.882398\n",
       "max    185.000000    0.971102    0.963739"
      ]
     },
     "execution_count": 28,
     "metadata": {},
     "output_type": "execute_result"
    }
   ],
   "source": [
    "corrected_df=new_df[(new_df['ResultDetect']==True)]\n",
    "corrected_df.describe()"
   ]
  },
  {
   "cell_type": "code",
   "execution_count": 29,
   "metadata": {},
   "outputs": [
    {
     "data": {
      "text/plain": [
       "162"
      ]
     },
     "execution_count": 29,
     "metadata": {},
     "output_type": "execute_result"
    }
   ],
   "source": [
    "(corrected_df['ResultDetect']==True).sum()"
   ]
  },
  {
   "cell_type": "code",
   "execution_count": 30,
   "metadata": {
    "scrolled": true
   },
   "outputs": [
    {
     "data": {
      "text/plain": [
       "0"
      ]
     },
     "execution_count": 30,
     "metadata": {},
     "output_type": "execute_result"
    }
   ],
   "source": [
    "(corrected_df['ResultDetect']==False).sum()"
   ]
  },
  {
   "cell_type": "markdown",
   "metadata": {},
   "source": [
    "## Confidence Score Calulation"
   ]
  },
  {
   "cell_type": "code",
   "execution_count": 51,
   "metadata": {},
   "outputs": [],
   "source": [
    "threshold_score=0.6"
   ]
  },
  {
   "cell_type": "code",
   "execution_count": 52,
   "metadata": {
    "scrolled": false
   },
   "outputs": [
    {
     "name": "stderr",
     "output_type": "stream",
     "text": [
      "<ipython-input-52-5d318b2bd7b3>:1: SettingWithCopyWarning: \n",
      "A value is trying to be set on a copy of a slice from a DataFrame.\n",
      "Try using .loc[row_indexer,col_indexer] = value instead\n",
      "\n",
      "See the caveats in the documentation: https://pandas.pydata.org/pandas-docs/stable/user_guide/indexing.html#returning-a-view-versus-a-copy\n",
      "  corrected_df['ScoreThreshold']=np.where(corrected_df['Score']>=threshold_score,True,False)\n"
     ]
    },
    {
     "data": {
      "text/html": [
       "<div>\n",
       "<style scoped>\n",
       "    .dataframe tbody tr th:only-of-type {\n",
       "        vertical-align: middle;\n",
       "    }\n",
       "\n",
       "    .dataframe tbody tr th {\n",
       "        vertical-align: top;\n",
       "    }\n",
       "\n",
       "    .dataframe thead th {\n",
       "        text-align: right;\n",
       "    }\n",
       "</style>\n",
       "<table border=\"1\" class=\"dataframe\">\n",
       "  <thead>\n",
       "    <tr style=\"text-align: right;\">\n",
       "      <th></th>\n",
       "      <th>Unnamed: 0</th>\n",
       "      <th>Class Name</th>\n",
       "      <th>Label Box</th>\n",
       "      <th>Detected Class Name</th>\n",
       "      <th>Detected Box</th>\n",
       "      <th>Score</th>\n",
       "      <th>IoU</th>\n",
       "      <th>ResultDetect</th>\n",
       "      <th>ScoreThreshold</th>\n",
       "    </tr>\n",
       "  </thead>\n",
       "  <tbody>\n",
       "    <tr>\n",
       "      <th>0</th>\n",
       "      <td>0</td>\n",
       "      <td>Building House</td>\n",
       "      <td>[203, 308, 1395, 752]</td>\n",
       "      <td>Building House</td>\n",
       "      <td>[165, 257, 1402, 747]</td>\n",
       "      <td>0.922713</td>\n",
       "      <td>0.855165</td>\n",
       "      <td>True</td>\n",
       "      <td>True</td>\n",
       "    </tr>\n",
       "    <tr>\n",
       "      <th>1</th>\n",
       "      <td>1</td>\n",
       "      <td>Building House</td>\n",
       "      <td>[249, 152, 862, 414]</td>\n",
       "      <td>Building House</td>\n",
       "      <td>[216, 176, 852, 393]</td>\n",
       "      <td>0.881272</td>\n",
       "      <td>0.780621</td>\n",
       "      <td>True</td>\n",
       "      <td>True</td>\n",
       "    </tr>\n",
       "    <tr>\n",
       "      <th>2</th>\n",
       "      <td>2</td>\n",
       "      <td>Building House</td>\n",
       "      <td>[234, 117, 1399, 904]</td>\n",
       "      <td>Building House</td>\n",
       "      <td>[172, 104, 1433, 973]</td>\n",
       "      <td>0.909382</td>\n",
       "      <td>0.836847</td>\n",
       "      <td>True</td>\n",
       "      <td>True</td>\n",
       "    </tr>\n",
       "    <tr>\n",
       "      <th>3</th>\n",
       "      <td>3</td>\n",
       "      <td>Building House</td>\n",
       "      <td>[103, 112, 547, 673]</td>\n",
       "      <td>Building House</td>\n",
       "      <td>[110, 104, 567, 726]</td>\n",
       "      <td>0.935750</td>\n",
       "      <td>0.850962</td>\n",
       "      <td>True</td>\n",
       "      <td>True</td>\n",
       "    </tr>\n",
       "    <tr>\n",
       "      <th>4</th>\n",
       "      <td>4</td>\n",
       "      <td>Building House</td>\n",
       "      <td>[117, 81, 952, 689]</td>\n",
       "      <td>Building House</td>\n",
       "      <td>[144, 53, 888, 733]</td>\n",
       "      <td>0.937436</td>\n",
       "      <td>0.806208</td>\n",
       "      <td>True</td>\n",
       "      <td>True</td>\n",
       "    </tr>\n",
       "  </tbody>\n",
       "</table>\n",
       "</div>"
      ],
      "text/plain": [
       "   Unnamed: 0      Class Name              Label Box Detected Class Name  \\\n",
       "0           0  Building House  [203, 308, 1395, 752]      Building House   \n",
       "1           1  Building House   [249, 152, 862, 414]      Building House   \n",
       "2           2  Building House  [234, 117, 1399, 904]      Building House   \n",
       "3           3  Building House   [103, 112, 547, 673]      Building House   \n",
       "4           4  Building House    [117, 81, 952, 689]      Building House   \n",
       "\n",
       "            Detected Box     Score       IoU  ResultDetect  ScoreThreshold  \n",
       "0  [165, 257, 1402, 747]  0.922713  0.855165          True            True  \n",
       "1   [216, 176, 852, 393]  0.881272  0.780621          True            True  \n",
       "2  [172, 104, 1433, 973]  0.909382  0.836847          True            True  \n",
       "3   [110, 104, 567, 726]  0.935750  0.850962          True            True  \n",
       "4    [144, 53, 888, 733]  0.937436  0.806208          True            True  "
      ]
     },
     "execution_count": 52,
     "metadata": {},
     "output_type": "execute_result"
    }
   ],
   "source": [
    "corrected_df['ScoreThreshold']=np.where(corrected_df['Score']>=threshold_score,True,False)\n",
    "corrected_df.head()"
   ]
  },
  {
   "cell_type": "code",
   "execution_count": 53,
   "metadata": {},
   "outputs": [
    {
     "data": {
      "text/html": [
       "<div>\n",
       "<style scoped>\n",
       "    .dataframe tbody tr th:only-of-type {\n",
       "        vertical-align: middle;\n",
       "    }\n",
       "\n",
       "    .dataframe tbody tr th {\n",
       "        vertical-align: top;\n",
       "    }\n",
       "\n",
       "    .dataframe thead th {\n",
       "        text-align: right;\n",
       "    }\n",
       "</style>\n",
       "<table border=\"1\" class=\"dataframe\">\n",
       "  <thead>\n",
       "    <tr style=\"text-align: right;\">\n",
       "      <th></th>\n",
       "      <th>Unnamed: 0</th>\n",
       "      <th>Class Name</th>\n",
       "      <th>Label Box</th>\n",
       "      <th>Detected Class Name</th>\n",
       "      <th>Detected Box</th>\n",
       "      <th>Score</th>\n",
       "      <th>IoU</th>\n",
       "      <th>ResultDetect</th>\n",
       "      <th>ScoreThreshold</th>\n",
       "    </tr>\n",
       "  </thead>\n",
       "  <tbody>\n",
       "    <tr>\n",
       "      <th>180</th>\n",
       "      <td>180</td>\n",
       "      <td>Tin-shade House</td>\n",
       "      <td>[141, 28, 677, 387]</td>\n",
       "      <td>Tin-shade House</td>\n",
       "      <td>[131, 24, 691, 392]</td>\n",
       "      <td>0.624678</td>\n",
       "      <td>0.933872</td>\n",
       "      <td>True</td>\n",
       "      <td>True</td>\n",
       "    </tr>\n",
       "    <tr>\n",
       "      <th>181</th>\n",
       "      <td>181</td>\n",
       "      <td>Tin-shade House</td>\n",
       "      <td>[30, 79, 574, 374]</td>\n",
       "      <td>Tin-shade House</td>\n",
       "      <td>[49, 77, 565, 376]</td>\n",
       "      <td>0.706333</td>\n",
       "      <td>0.936617</td>\n",
       "      <td>True</td>\n",
       "      <td>True</td>\n",
       "    </tr>\n",
       "    <tr>\n",
       "      <th>182</th>\n",
       "      <td>182</td>\n",
       "      <td>Tin-shade House</td>\n",
       "      <td>[50, 90, 581, 380]</td>\n",
       "      <td>Tin-shade House</td>\n",
       "      <td>[49, 77, 565, 376]</td>\n",
       "      <td>0.706333</td>\n",
       "      <td>0.915165</td>\n",
       "      <td>True</td>\n",
       "      <td>True</td>\n",
       "    </tr>\n",
       "    <tr>\n",
       "      <th>183</th>\n",
       "      <td>183</td>\n",
       "      <td>Tin-shade House</td>\n",
       "      <td>[37, 158, 432, 396]</td>\n",
       "      <td>Tin-shade House</td>\n",
       "      <td>[40, 155, 425, 398]</td>\n",
       "      <td>0.727043</td>\n",
       "      <td>0.955267</td>\n",
       "      <td>True</td>\n",
       "      <td>True</td>\n",
       "    </tr>\n",
       "    <tr>\n",
       "      <th>185</th>\n",
       "      <td>185</td>\n",
       "      <td>Tin-shade House</td>\n",
       "      <td>[9, 93, 420, 265]</td>\n",
       "      <td>Tin-shade House</td>\n",
       "      <td>[15, 95, 436, 283]</td>\n",
       "      <td>0.671263</td>\n",
       "      <td>0.850725</td>\n",
       "      <td>True</td>\n",
       "      <td>True</td>\n",
       "    </tr>\n",
       "  </tbody>\n",
       "</table>\n",
       "</div>"
      ],
      "text/plain": [
       "     Unnamed: 0       Class Name            Label Box Detected Class Name  \\\n",
       "180         180  Tin-shade House  [141, 28, 677, 387]     Tin-shade House   \n",
       "181         181  Tin-shade House   [30, 79, 574, 374]     Tin-shade House   \n",
       "182         182  Tin-shade House   [50, 90, 581, 380]     Tin-shade House   \n",
       "183         183  Tin-shade House  [37, 158, 432, 396]     Tin-shade House   \n",
       "185         185  Tin-shade House    [9, 93, 420, 265]     Tin-shade House   \n",
       "\n",
       "            Detected Box     Score       IoU  ResultDetect  ScoreThreshold  \n",
       "180  [131, 24, 691, 392]  0.624678  0.933872          True            True  \n",
       "181   [49, 77, 565, 376]  0.706333  0.936617          True            True  \n",
       "182   [49, 77, 565, 376]  0.706333  0.915165          True            True  \n",
       "183  [40, 155, 425, 398]  0.727043  0.955267          True            True  \n",
       "185   [15, 95, 436, 283]  0.671263  0.850725          True            True  "
      ]
     },
     "execution_count": 53,
     "metadata": {},
     "output_type": "execute_result"
    }
   ],
   "source": [
    "corrected_df.tail()"
   ]
  },
  {
   "cell_type": "code",
   "execution_count": 54,
   "metadata": {},
   "outputs": [
    {
     "name": "stdout",
     "output_type": "stream",
     "text": [
      "Upper than Score Threshold Count:  150\n"
     ]
    }
   ],
   "source": [
    "upperScoreThresholdCount=(corrected_df['ScoreThreshold']==True).sum()\n",
    "print(\"Upper than Score Threshold Count: \",upperScoreThresholdCount)"
   ]
  },
  {
   "cell_type": "code",
   "execution_count": 55,
   "metadata": {
    "scrolled": true
   },
   "outputs": [
    {
     "name": "stdout",
     "output_type": "stream",
     "text": [
      "Lower than Score Threshold Count:  12\n"
     ]
    }
   ],
   "source": [
    "lowerScoreThresholdCount=(corrected_df['ScoreThreshold']==False).sum()\n",
    "print(\"Lower than Score Threshold Count: \",lowerScoreThresholdCount)"
   ]
  },
  {
   "cell_type": "code",
   "execution_count": 78,
   "metadata": {},
   "outputs": [
    {
     "name": "stdout",
     "output_type": "stream",
     "text": [
      "Score Percentage:  80.64516129032258\n"
     ]
    }
   ],
   "source": [
    "score_percentage=upperScoreThresholdCount/total_data\n",
    "print(\"Score Percentage: \",score_percentage*100)"
   ]
  },
  {
   "cell_type": "markdown",
   "metadata": {
    "scrolled": true
   },
   "source": [
    "## Intersection of Union (IoU) Calulation"
   ]
  },
  {
   "cell_type": "code",
   "execution_count": 72,
   "metadata": {},
   "outputs": [],
   "source": [
    "threshold_iou=0.5"
   ]
  },
  {
   "cell_type": "code",
   "execution_count": 73,
   "metadata": {
    "scrolled": true
   },
   "outputs": [
    {
     "name": "stderr",
     "output_type": "stream",
     "text": [
      "<ipython-input-73-0cb57753431c>:1: SettingWithCopyWarning: \n",
      "A value is trying to be set on a copy of a slice from a DataFrame.\n",
      "Try using .loc[row_indexer,col_indexer] = value instead\n",
      "\n",
      "See the caveats in the documentation: https://pandas.pydata.org/pandas-docs/stable/user_guide/indexing.html#returning-a-view-versus-a-copy\n",
      "  corrected_df['IoUThreshold']=np.where(corrected_df['IoU']>=threshold_iou,True,False)\n"
     ]
    }
   ],
   "source": [
    "corrected_df['IoUThreshold']=np.where(corrected_df['IoU']>=threshold_iou,True,False)"
   ]
  },
  {
   "cell_type": "code",
   "execution_count": 74,
   "metadata": {
    "scrolled": true
   },
   "outputs": [
    {
     "data": {
      "text/html": [
       "<div>\n",
       "<style scoped>\n",
       "    .dataframe tbody tr th:only-of-type {\n",
       "        vertical-align: middle;\n",
       "    }\n",
       "\n",
       "    .dataframe tbody tr th {\n",
       "        vertical-align: top;\n",
       "    }\n",
       "\n",
       "    .dataframe thead th {\n",
       "        text-align: right;\n",
       "    }\n",
       "</style>\n",
       "<table border=\"1\" class=\"dataframe\">\n",
       "  <thead>\n",
       "    <tr style=\"text-align: right;\">\n",
       "      <th></th>\n",
       "      <th>Unnamed: 0</th>\n",
       "      <th>Class Name</th>\n",
       "      <th>Label Box</th>\n",
       "      <th>Detected Class Name</th>\n",
       "      <th>Detected Box</th>\n",
       "      <th>Score</th>\n",
       "      <th>IoU</th>\n",
       "      <th>ResultDetect</th>\n",
       "      <th>ScoreThreshold</th>\n",
       "      <th>IoUThreshold</th>\n",
       "    </tr>\n",
       "  </thead>\n",
       "  <tbody>\n",
       "    <tr>\n",
       "      <th>0</th>\n",
       "      <td>0</td>\n",
       "      <td>Building House</td>\n",
       "      <td>[203, 308, 1395, 752]</td>\n",
       "      <td>Building House</td>\n",
       "      <td>[165, 257, 1402, 747]</td>\n",
       "      <td>0.922713</td>\n",
       "      <td>0.855165</td>\n",
       "      <td>True</td>\n",
       "      <td>True</td>\n",
       "      <td>True</td>\n",
       "    </tr>\n",
       "    <tr>\n",
       "      <th>1</th>\n",
       "      <td>1</td>\n",
       "      <td>Building House</td>\n",
       "      <td>[249, 152, 862, 414]</td>\n",
       "      <td>Building House</td>\n",
       "      <td>[216, 176, 852, 393]</td>\n",
       "      <td>0.881272</td>\n",
       "      <td>0.780621</td>\n",
       "      <td>True</td>\n",
       "      <td>True</td>\n",
       "      <td>True</td>\n",
       "    </tr>\n",
       "    <tr>\n",
       "      <th>2</th>\n",
       "      <td>2</td>\n",
       "      <td>Building House</td>\n",
       "      <td>[234, 117, 1399, 904]</td>\n",
       "      <td>Building House</td>\n",
       "      <td>[172, 104, 1433, 973]</td>\n",
       "      <td>0.909382</td>\n",
       "      <td>0.836847</td>\n",
       "      <td>True</td>\n",
       "      <td>True</td>\n",
       "      <td>True</td>\n",
       "    </tr>\n",
       "    <tr>\n",
       "      <th>3</th>\n",
       "      <td>3</td>\n",
       "      <td>Building House</td>\n",
       "      <td>[103, 112, 547, 673]</td>\n",
       "      <td>Building House</td>\n",
       "      <td>[110, 104, 567, 726]</td>\n",
       "      <td>0.935750</td>\n",
       "      <td>0.850962</td>\n",
       "      <td>True</td>\n",
       "      <td>True</td>\n",
       "      <td>True</td>\n",
       "    </tr>\n",
       "    <tr>\n",
       "      <th>4</th>\n",
       "      <td>4</td>\n",
       "      <td>Building House</td>\n",
       "      <td>[117, 81, 952, 689]</td>\n",
       "      <td>Building House</td>\n",
       "      <td>[144, 53, 888, 733]</td>\n",
       "      <td>0.937436</td>\n",
       "      <td>0.806208</td>\n",
       "      <td>True</td>\n",
       "      <td>True</td>\n",
       "      <td>True</td>\n",
       "    </tr>\n",
       "  </tbody>\n",
       "</table>\n",
       "</div>"
      ],
      "text/plain": [
       "   Unnamed: 0      Class Name              Label Box Detected Class Name  \\\n",
       "0           0  Building House  [203, 308, 1395, 752]      Building House   \n",
       "1           1  Building House   [249, 152, 862, 414]      Building House   \n",
       "2           2  Building House  [234, 117, 1399, 904]      Building House   \n",
       "3           3  Building House   [103, 112, 547, 673]      Building House   \n",
       "4           4  Building House    [117, 81, 952, 689]      Building House   \n",
       "\n",
       "            Detected Box     Score       IoU  ResultDetect  ScoreThreshold  \\\n",
       "0  [165, 257, 1402, 747]  0.922713  0.855165          True            True   \n",
       "1   [216, 176, 852, 393]  0.881272  0.780621          True            True   \n",
       "2  [172, 104, 1433, 973]  0.909382  0.836847          True            True   \n",
       "3   [110, 104, 567, 726]  0.935750  0.850962          True            True   \n",
       "4    [144, 53, 888, 733]  0.937436  0.806208          True            True   \n",
       "\n",
       "   IoUThreshold  \n",
       "0          True  \n",
       "1          True  \n",
       "2          True  \n",
       "3          True  \n",
       "4          True  "
      ]
     },
     "execution_count": 74,
     "metadata": {},
     "output_type": "execute_result"
    }
   ],
   "source": [
    "corrected_df.head()"
   ]
  },
  {
   "cell_type": "code",
   "execution_count": 75,
   "metadata": {},
   "outputs": [
    {
     "data": {
      "text/html": [
       "<div>\n",
       "<style scoped>\n",
       "    .dataframe tbody tr th:only-of-type {\n",
       "        vertical-align: middle;\n",
       "    }\n",
       "\n",
       "    .dataframe tbody tr th {\n",
       "        vertical-align: top;\n",
       "    }\n",
       "\n",
       "    .dataframe thead th {\n",
       "        text-align: right;\n",
       "    }\n",
       "</style>\n",
       "<table border=\"1\" class=\"dataframe\">\n",
       "  <thead>\n",
       "    <tr style=\"text-align: right;\">\n",
       "      <th></th>\n",
       "      <th>Unnamed: 0</th>\n",
       "      <th>Class Name</th>\n",
       "      <th>Label Box</th>\n",
       "      <th>Detected Class Name</th>\n",
       "      <th>Detected Box</th>\n",
       "      <th>Score</th>\n",
       "      <th>IoU</th>\n",
       "      <th>ResultDetect</th>\n",
       "      <th>ScoreThreshold</th>\n",
       "      <th>IoUThreshold</th>\n",
       "    </tr>\n",
       "  </thead>\n",
       "  <tbody>\n",
       "    <tr>\n",
       "      <th>180</th>\n",
       "      <td>180</td>\n",
       "      <td>Tin-shade House</td>\n",
       "      <td>[141, 28, 677, 387]</td>\n",
       "      <td>Tin-shade House</td>\n",
       "      <td>[131, 24, 691, 392]</td>\n",
       "      <td>0.624678</td>\n",
       "      <td>0.933872</td>\n",
       "      <td>True</td>\n",
       "      <td>True</td>\n",
       "      <td>True</td>\n",
       "    </tr>\n",
       "    <tr>\n",
       "      <th>181</th>\n",
       "      <td>181</td>\n",
       "      <td>Tin-shade House</td>\n",
       "      <td>[30, 79, 574, 374]</td>\n",
       "      <td>Tin-shade House</td>\n",
       "      <td>[49, 77, 565, 376]</td>\n",
       "      <td>0.706333</td>\n",
       "      <td>0.936617</td>\n",
       "      <td>True</td>\n",
       "      <td>True</td>\n",
       "      <td>True</td>\n",
       "    </tr>\n",
       "    <tr>\n",
       "      <th>182</th>\n",
       "      <td>182</td>\n",
       "      <td>Tin-shade House</td>\n",
       "      <td>[50, 90, 581, 380]</td>\n",
       "      <td>Tin-shade House</td>\n",
       "      <td>[49, 77, 565, 376]</td>\n",
       "      <td>0.706333</td>\n",
       "      <td>0.915165</td>\n",
       "      <td>True</td>\n",
       "      <td>True</td>\n",
       "      <td>True</td>\n",
       "    </tr>\n",
       "    <tr>\n",
       "      <th>183</th>\n",
       "      <td>183</td>\n",
       "      <td>Tin-shade House</td>\n",
       "      <td>[37, 158, 432, 396]</td>\n",
       "      <td>Tin-shade House</td>\n",
       "      <td>[40, 155, 425, 398]</td>\n",
       "      <td>0.727043</td>\n",
       "      <td>0.955267</td>\n",
       "      <td>True</td>\n",
       "      <td>True</td>\n",
       "      <td>True</td>\n",
       "    </tr>\n",
       "    <tr>\n",
       "      <th>185</th>\n",
       "      <td>185</td>\n",
       "      <td>Tin-shade House</td>\n",
       "      <td>[9, 93, 420, 265]</td>\n",
       "      <td>Tin-shade House</td>\n",
       "      <td>[15, 95, 436, 283]</td>\n",
       "      <td>0.671263</td>\n",
       "      <td>0.850725</td>\n",
       "      <td>True</td>\n",
       "      <td>True</td>\n",
       "      <td>True</td>\n",
       "    </tr>\n",
       "  </tbody>\n",
       "</table>\n",
       "</div>"
      ],
      "text/plain": [
       "     Unnamed: 0       Class Name            Label Box Detected Class Name  \\\n",
       "180         180  Tin-shade House  [141, 28, 677, 387]     Tin-shade House   \n",
       "181         181  Tin-shade House   [30, 79, 574, 374]     Tin-shade House   \n",
       "182         182  Tin-shade House   [50, 90, 581, 380]     Tin-shade House   \n",
       "183         183  Tin-shade House  [37, 158, 432, 396]     Tin-shade House   \n",
       "185         185  Tin-shade House    [9, 93, 420, 265]     Tin-shade House   \n",
       "\n",
       "            Detected Box     Score       IoU  ResultDetect  ScoreThreshold  \\\n",
       "180  [131, 24, 691, 392]  0.624678  0.933872          True            True   \n",
       "181   [49, 77, 565, 376]  0.706333  0.936617          True            True   \n",
       "182   [49, 77, 565, 376]  0.706333  0.915165          True            True   \n",
       "183  [40, 155, 425, 398]  0.727043  0.955267          True            True   \n",
       "185   [15, 95, 436, 283]  0.671263  0.850725          True            True   \n",
       "\n",
       "     IoUThreshold  \n",
       "180          True  \n",
       "181          True  \n",
       "182          True  \n",
       "183          True  \n",
       "185          True  "
      ]
     },
     "execution_count": 75,
     "metadata": {},
     "output_type": "execute_result"
    }
   ],
   "source": [
    "corrected_df.tail()"
   ]
  },
  {
   "cell_type": "code",
   "execution_count": 76,
   "metadata": {},
   "outputs": [
    {
     "name": "stdout",
     "output_type": "stream",
     "text": [
      "Upper than IoU Threshold Count:  138\n"
     ]
    }
   ],
   "source": [
    "upperIoUThresholdCount=(corrected_df['IoUThreshold']==True).sum()\n",
    "print(\"Upper than IoU Threshold Count: \",upperIoUThresholdCount)"
   ]
  },
  {
   "cell_type": "code",
   "execution_count": 77,
   "metadata": {},
   "outputs": [
    {
     "name": "stdout",
     "output_type": "stream",
     "text": [
      "lower than IoU Threshold Count:  24\n"
     ]
    }
   ],
   "source": [
    "lowerIoUThresholdCount=(corrected_df['IoUThreshold']==False).sum()\n",
    "print(\"lower than IoU Threshold Count: \",lowerIoUThresholdCount)"
   ]
  },
  {
   "cell_type": "code",
   "execution_count": 79,
   "metadata": {},
   "outputs": [
    {
     "name": "stdout",
     "output_type": "stream",
     "text": [
      "Score Percentage:  74.19354838709677\n"
     ]
    }
   ],
   "source": [
    "iou_percentage=upperIoUThresholdCount/total_data\n",
    "print(\"Score Percentage: \",iou_percentage*100)"
   ]
  },
  {
   "cell_type": "markdown",
   "metadata": {},
   "source": [
    "## Plot The Graphs"
   ]
  },
  {
   "cell_type": "code",
   "execution_count": 85,
   "metadata": {
    "scrolled": false
   },
   "outputs": [
    {
     "data": {
      "text/plain": [
       "Text(0.5, 1.0, 'Confidence Score VS IoU')"
      ]
     },
     "execution_count": 85,
     "metadata": {},
     "output_type": "execute_result"
    },
    {
     "data": {
      "image/png": "[encoded data removed]",
      "text/plain": [
       "<Figure size 432x288 with 1 Axes>"
      ]
     },
     "metadata": {
      "needs_background": "light"
     },
     "output_type": "display_data"
    }
   ],
   "source": [
    "plt.scatter(corrected_df['Score'],corrected_df['IoU'])\n",
    "plt.xlabel('Score')\n",
    "plt.ylabel('IoU')\n",
    "plt.title('Confidence Score VS IoU')"
   ]
  }
 ],
 "metadata": {
  "kernelspec": {
   "display_name": "Python 3",
   "language": "python",
   "name": "python3"
  }
 },
 "nbformat": 4,
 "nbformat_minor": 4
}
