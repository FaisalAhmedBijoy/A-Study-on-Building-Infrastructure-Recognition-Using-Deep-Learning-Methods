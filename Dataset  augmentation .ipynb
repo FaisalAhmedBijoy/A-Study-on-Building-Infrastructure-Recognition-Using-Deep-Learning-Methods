{
 "cells": [
  {
   "cell_type": "code",
   "execution_count": 1,
   "metadata": {
    "scrolled": true
   },
   "outputs": [
    {
     "name": "stdout",
     "output_type": "stream",
     "text": [
      "Dataset augmentation and save into a directory\n"
     ]
    }
   ],
   "source": [
    "print('Dataset augmentation and save into a directory')"
   ]
  },
  {
   "cell_type": "code",
   "execution_count": 2,
   "metadata": {},
   "outputs": [],
   "source": [
    "import os\n",
    "import cv2\n",
    "import numpy as np\n",
    "import matplotlib.pyplot as plt\n",
    "import PIL\n",
    "import glob"
   ]
  },
  {
   "cell_type": "code",
   "execution_count": 3,
   "metadata": {},
   "outputs": [
    {
     "data": {
      "text/plain": [
       "'C:\\\\Users\\\\Shimul\\\\Documents\\\\Building CSE 4000 Thesis'"
      ]
     },
     "execution_count": 3,
     "metadata": {},
     "output_type": "execute_result"
    }
   ],
   "source": [
    "os.getcwd()"
   ]
  },
  {
   "cell_type": "code",
   "execution_count": 4,
   "metadata": {},
   "outputs": [],
   "source": [
    "import tensorflow as tf"
   ]
  },
  {
   "cell_type": "markdown",
   "metadata": {},
   "source": [
    "## Setup all class using glob"
   ]
  },
  {
   "cell_type": "code",
   "execution_count": 5,
   "metadata": {},
   "outputs": [],
   "source": [
    "building_house=glob.glob('dataset_building/building_house/*.*')\n",
    "mosque=glob.glob('dataset_building/mosque/*.*')\n",
    "temple=glob.glob('dataset_building/temple/*.*')\n",
    "tinshed=glob.glob('dataset_building/tinshed/*.*')"
   ]
  },
  {
   "cell_type": "code",
   "execution_count": 6,
   "metadata": {},
   "outputs": [
    {
     "name": "stdout",
     "output_type": "stream",
     "text": [
      "Building house :  72\n",
      "Mosque :  73\n",
      "Temple :  68\n",
      "Tinshed :  41\n"
     ]
    }
   ],
   "source": [
    "print('Building house : ',len(building_house))\n",
    "print('Mosque : ',len(mosque))\n",
    "print('Temple : ',len(temple))\n",
    "print('Tinshed : ',len(tinshed))"
   ]
  },
  {
   "cell_type": "code",
   "execution_count": null,
   "metadata": {},
   "outputs": [],
   "source": []
  },
  {
   "cell_type": "markdown",
   "metadata": {},
   "source": [
    "## Import Image data generator, image to array, load image"
   ]
  },
  {
   "cell_type": "code",
   "execution_count": 7,
   "metadata": {},
   "outputs": [],
   "source": [
    "from tensorflow.keras.preprocessing.image import ImageDataGenerator\n",
    "from tensorflow.keras.preprocessing.image import img_to_array\n",
    "from tensorflow.keras.preprocessing.image import load_img"
   ]
  },
  {
   "cell_type": "code",
   "execution_count": null,
   "metadata": {},
   "outputs": [],
   "source": []
  },
  {
   "cell_type": "markdown",
   "metadata": {},
   "source": [
    "## Define the  image data generator parameter"
   ]
  },
  {
   "cell_type": "code",
   "execution_count": 8,
   "metadata": {},
   "outputs": [],
   "source": [
    "datagen = ImageDataGenerator(\n",
    "        rotation_range=40,\n",
    "        width_shift_range=0.2,\n",
    "        height_shift_range=0.2,\n",
    "        rescale=1./255,\n",
    "        shear_range=0.2,\n",
    "        zoom_range=0.2,\n",
    "        horizontal_flip=True,\n",
    "        fill_mode='nearest')"
   ]
  },
  {
   "cell_type": "code",
   "execution_count": 9,
   "metadata": {},
   "outputs": [
    {
     "data": {
      "text/plain": [
       "<tensorflow.python.keras.preprocessing.image.ImageDataGenerator at 0x2335ca6cbe0>"
      ]
     },
     "execution_count": 9,
     "metadata": {},
     "output_type": "execute_result"
    }
   ],
   "source": [
    "datagen"
   ]
  },
  {
   "cell_type": "code",
   "execution_count": null,
   "metadata": {},
   "outputs": [],
   "source": []
  },
  {
   "cell_type": "markdown",
   "metadata": {},
   "source": [
    "## Building house data augmentation"
   ]
  },
  {
   "cell_type": "code",
   "execution_count": 10,
   "metadata": {},
   "outputs": [],
   "source": [
    "for i in building_house:\n",
    "    img=load_img(i)\n",
    "    img=img_to_array(img)\n",
    "    #print(img.shape)\n",
    "    img=img.reshape((1,)+img.shape)\n",
    "    augmented_number=5\n",
    "    i=0\n",
    "    for batch in datagen.flow(img,batch_size=1,save_to_dir='augmented_dataset/building_house',save_prefix='building_house',save_format='png'):\n",
    "        i=i+1\n",
    "        if i>augmented_number:\n",
    "            break"
   ]
  },
  {
   "cell_type": "markdown",
   "metadata": {},
   "source": [
    "## Mosque data augmentation"
   ]
  },
  {
   "cell_type": "code",
   "execution_count": 11,
   "metadata": {},
   "outputs": [],
   "source": [
    "for i in mosque:\n",
    "    img=load_img(i)\n",
    "    img=img_to_array(img)\n",
    "    #print(img.shape)\n",
    "    img=img.reshape((1,)+img.shape)\n",
    "    augmented_number=5\n",
    "    i=0\n",
    "    for batch in datagen.flow(img,batch_size=1,save_to_dir='augmented_dataset/mosque',save_prefix='mosque',save_format='png'):\n",
    "        i=i+1\n",
    "        if i>augmented_number:\n",
    "            break"
   ]
  },
  {
   "cell_type": "markdown",
   "metadata": {},
   "source": [
    "## Temple data augmentation"
   ]
  },
  {
   "cell_type": "code",
   "execution_count": 12,
   "metadata": {},
   "outputs": [],
   "source": [
    "for i in temple:\n",
    "    img=load_img(i)\n",
    "    img=img_to_array(img)\n",
    "    #print(img.shape)\n",
    "    img=img.reshape((1,)+img.shape)\n",
    "    augmented_number=5\n",
    "    i=0\n",
    "    for batch in datagen.flow(img,batch_size=1,save_to_dir='augmented_dataset/temple',save_prefix='temple',save_format='png'):\n",
    "        i=i+1\n",
    "        if i>augmented_number:\n",
    "            break"
   ]
  },
  {
   "cell_type": "markdown",
   "metadata": {},
   "source": [
    "## Tinshed data augmentation"
   ]
  },
  {
   "cell_type": "code",
   "execution_count": 13,
   "metadata": {},
   "outputs": [],
   "source": [
    "for i in tinshed:\n",
    "    img=load_img(i)\n",
    "    img=img_to_array(img)\n",
    "    #print(img.shape)\n",
    "    img=img.reshape((1,)+img.shape)\n",
    "    augmented_number=7\n",
    "    i=0\n",
    "    for batch in datagen.flow(img,batch_size=1,save_to_dir='augmented_dataset/tinshed',save_prefix='tinshed',save_format='png'):\n",
    "        i=i+1\n",
    "        if i>augmented_number:\n",
    "            break"
   ]
  },
  {
   "cell_type": "code",
   "execution_count": null,
   "metadata": {},
   "outputs": [],
   "source": []
  }
 ],
 "metadata": {
  "kernelspec": {
   "display_name": "Python 3",
   "language": "python",
   "name": "python3"
  },
  "language_info": {
   "codemirror_mode": {
    "name": "ipython",
    "version": 3
   },
   "file_extension": ".py",
   "mimetype": "text/x-python",
   "name": "python",
   "nbconvert_exporter": "python",
   "pygments_lexer": "ipython3",
   "version": "3.8.5"
  }
 },
 "nbformat": 4,
 "nbformat_minor": 4
}
