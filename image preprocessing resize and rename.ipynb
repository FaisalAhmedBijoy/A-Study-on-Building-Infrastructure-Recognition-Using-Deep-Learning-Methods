{
 "cells": [
  {
   "cell_type": "code",
   "execution_count": 2,
   "metadata": {},
   "outputs": [],
   "source": [
    "import cv2\n",
    "import numpy as np\n",
    "import matplotlib.pyplot as plt\n",
    "import PIL\n",
    "import glob"
   ]
  },
  {
   "cell_type": "code",
   "execution_count": 3,
   "metadata": {},
   "outputs": [],
   "source": [
    "import os"
   ]
  },
  {
   "cell_type": "code",
   "execution_count": 4,
   "metadata": {
    "scrolled": true
   },
   "outputs": [
    {
     "data": {
      "text/plain": [
       "'C:\\\\Users\\\\Shimul\\\\Documents\\\\Building CSE 4000 Thesis'"
      ]
     },
     "execution_count": 4,
     "metadata": {},
     "output_type": "execute_result"
    }
   ],
   "source": [
    "os.getcwd()"
   ]
  },
  {
   "cell_type": "markdown",
   "metadata": {},
   "source": [
    "## Locate the dataset"
   ]
  },
  {
   "cell_type": "code",
   "execution_count": 5,
   "metadata": {},
   "outputs": [],
   "source": [
    "building_house_dataset='C:/Users/Shimul/Documents/Building CSE 4000 Thesis/datasets/building_house'\n",
    "mosque_dataset='C:/Users/Shimul/Documents/Building CSE 4000 Thesis/datasets/mosque'\n",
    "temple_dataset='C:/Users/Shimul/Documents/Building CSE 4000 Thesis/datasets/temple'\n",
    "tinshed_dataset='C:/Users/Shimul/Documents/Building CSE 4000 Thesis/datasets/tinshed'"
   ]
  },
  {
   "cell_type": "code",
   "execution_count": 6,
   "metadata": {},
   "outputs": [],
   "source": [
    "WIDTH=224\n",
    "HEIGHT=224\n",
    "all_image_dataset=[building_house_dataset,mosque_dataset,temple_dataset,tinshed_dataset]"
   ]
  },
  {
   "cell_type": "code",
   "execution_count": null,
   "metadata": {},
   "outputs": [],
   "source": []
  },
  {
   "cell_type": "markdown",
   "metadata": {},
   "source": [
    "## Resize and save the image into pre-processed dataset"
   ]
  },
  {
   "cell_type": "code",
   "execution_count": 7,
   "metadata": {},
   "outputs": [],
   "source": [
    "for i,filename in enumerate(glob.glob(building_house_dataset+'/*')):\n",
    "    image=PIL.Image.open(filename)\n",
    "    image=image.resize((WIDTH,HEIGHT),PIL.Image.ANTIALIAS)\n",
    "    image.save('dataset_building/building_house/building_house'+str(i)+'.png')"
   ]
  },
  {
   "cell_type": "code",
   "execution_count": 8,
   "metadata": {},
   "outputs": [],
   "source": [
    "for i,filename in enumerate(glob.glob(mosque_dataset+'/*')):\n",
    "    image=PIL.Image.open(filename)\n",
    "    image=image.resize((WIDTH,HEIGHT),PIL.Image.ANTIALIAS)\n",
    "    image.save('dataset_building/mosque/mosque'+str(i)+'.png')"
   ]
  },
  {
   "cell_type": "code",
   "execution_count": 9,
   "metadata": {},
   "outputs": [],
   "source": [
    "for i,filename in enumerate(glob.glob(temple_dataset+'/*')):\n",
    "    image=PIL.Image.open(filename)\n",
    "    image=image.resize((WIDTH,HEIGHT),PIL.Image.ANTIALIAS)\n",
    "    image.save('dataset_building/temple/temple'+str(i)+'.png')"
   ]
  },
  {
   "cell_type": "code",
   "execution_count": 10,
   "metadata": {},
   "outputs": [],
   "source": [
    "for i,filename in enumerate(glob.glob(tinshed_dataset+'/*')):\n",
    "    image=PIL.Image.open(filename)\n",
    "    image=image.resize((WIDTH,HEIGHT),PIL.Image.ANTIALIAS)\n",
    "    image.save('dataset_building/tinshed/tinshed'+str(i)+'.png')"
   ]
  },
  {
   "cell_type": "code",
   "execution_count": 11,
   "metadata": {},
   "outputs": [
    {
     "data": {
      "text/plain": [
       "'C:\\\\Users\\\\Shimul\\\\Documents\\\\Building CSE 4000 Thesis'"
      ]
     },
     "execution_count": 11,
     "metadata": {},
     "output_type": "execute_result"
    }
   ],
   "source": [
    "os.getcwd()"
   ]
  },
  {
   "cell_type": "code",
   "execution_count": null,
   "metadata": {},
   "outputs": [],
   "source": []
  },
  {
   "cell_type": "code",
   "execution_count": null,
   "metadata": {},
   "outputs": [],
   "source": []
  },
  {
   "cell_type": "code",
   "execution_count": null,
   "metadata": {
    "scrolled": true
   },
   "outputs": [],
   "source": []
  },
  {
   "cell_type": "code",
   "execution_count": null,
   "metadata": {},
   "outputs": [],
   "source": []
  }
 ],
 "metadata": {
  "kernelspec": {
   "display_name": "Python 3",
   "language": "python",
   "name": "python3"
  },
  "language_info": {
   "codemirror_mode": {
    "name": "ipython",
    "version": 3
   },
   "file_extension": ".py",
   "mimetype": "text/x-python",
   "name": "python",
   "nbconvert_exporter": "python",
   "pygments_lexer": "ipython3",
   "version": "3.8.5"
  }
 },
 "nbformat": 4,
 "nbformat_minor": 4
}
