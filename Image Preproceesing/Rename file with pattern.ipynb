{
 "cells": [
  {
   "cell_type": "markdown",
   "metadata": {},
   "source": [
    " The pattern matching is done using the glob module. The glob module is used to find the files and folders whose names follow a specific pattern."
   ]
  },
  {
   "cell_type": "code",
   "execution_count": 2,
   "metadata": {},
   "outputs": [],
   "source": [
    "import glob\n",
    "import os"
   ]
  },
  {
   "cell_type": "code",
   "execution_count": 3,
   "metadata": {},
   "outputs": [
    {
     "data": {
      "text/plain": [
       "['.ipynb_checkpoints',\n",
       " '1 image preprocessing resize and rename.ipynb',\n",
       " '2 Image_Classification_with_Sequential CNN -Copy1.ipynb',\n",
       " '2 Image_Classification_with_Sequential CNN .ipynb',\n",
       " '3 Hybrid CNN model .ipynb',\n",
       " '6 Transfer Learning Inception V3 Image Classification.ipynb',\n",
       " '7 Transfer Learning Xception Image Classification.ipynb',\n",
       " '8 Drive_Transfer_learning_ResNet_152v2 (1).ipynb',\n",
       " 'DATASET',\n",
       " 'DenseNet_Architecture_Implementation scratch.ipynb',\n",
       " 'desktop.ini',\n",
       " 'Drive_Transfer_learning_VGG_16 (1).ipynb',\n",
       " 'Images',\n",
       " 'MobileNet_Architecture_Implementation scracth.ipynb',\n",
       " 'mosque0.png',\n",
       " 'Rename file with pattern.ipynb',\n",
       " 'ResNet152v2.model.best.hdf5',\n",
       " 'SavedModel',\n",
       " 'seq cnn cm.png',\n",
       " 'Seq CNN testset input and prediction.csv',\n",
       " 'Transfer Learning DenseNet Image Classification.ipynb']"
      ]
     },
     "execution_count": 3,
     "metadata": {},
     "output_type": "execute_result"
    }
   ],
   "source": [
    "os.listdir()"
   ]
  },
  {
   "cell_type": "code",
   "execution_count": 21,
   "metadata": {},
   "outputs": [],
   "source": [
    "path='C:/Users/Shimul/Documents/Building CSE 4000 Thesis/Defense 27_03_2022/DATASET/test/brick_house//'"
   ]
  },
  {
   "cell_type": "code",
   "execution_count": 22,
   "metadata": {
    "scrolled": false
   },
   "outputs": [
    {
     "data": {
      "text/plain": [
       "['building_house200.png',\n",
       " 'building_house201.png',\n",
       " 'building_house202.png',\n",
       " 'building_house203.png',\n",
       " 'building_house204.png',\n",
       " 'building_house205.png',\n",
       " 'building_house206.png',\n",
       " 'building_house207.png',\n",
       " 'building_house208.png',\n",
       " 'building_house209.png',\n",
       " 'building_house210.png',\n",
       " 'building_house211.png',\n",
       " 'building_house212.png',\n",
       " 'building_house213.png',\n",
       " 'building_house214.png',\n",
       " 'building_house215.png',\n",
       " 'building_house216.png',\n",
       " 'building_house217.png',\n",
       " 'building_house218.png',\n",
       " 'building_house219.png',\n",
       " 'building_house220.png',\n",
       " 'building_house221.png',\n",
       " 'building_house222.png',\n",
       " 'building_house223.png',\n",
       " 'building_house224.png',\n",
       " 'building_house225.png',\n",
       " 'building_house226.png',\n",
       " 'building_house227.png',\n",
       " 'building_house228.png',\n",
       " 'building_house229.png',\n",
       " 'building_house230.png',\n",
       " 'building_house231.png',\n",
       " 'building_house232.png',\n",
       " 'building_house233.png',\n",
       " 'building_house234.png',\n",
       " 'building_house235.png',\n",
       " 'building_house236.png',\n",
       " 'building_house237.png',\n",
       " 'building_house238.png',\n",
       " 'building_house239.png',\n",
       " 'building_house240.png',\n",
       " 'building_house241.png',\n",
       " 'building_house242.png',\n",
       " 'building_house243.png',\n",
       " 'building_house244.png',\n",
       " 'building_house245.png',\n",
       " 'building_house246.png',\n",
       " 'building_house247.png',\n",
       " 'building_house248.png',\n",
       " 'building_house249.png']"
      ]
     },
     "execution_count": 22,
     "metadata": {},
     "output_type": "execute_result"
    }
   ],
   "source": [
    "os.listdir(path)"
   ]
  },
  {
   "cell_type": "code",
   "execution_count": 23,
   "metadata": {},
   "outputs": [
    {
     "data": {
      "text/plain": [
       "'C:/Users/Shimul/Documents/Building CSE 4000 Thesis/Defense 27_03_2022/DATASET/test/brick_house//*.png'"
      ]
     },
     "execution_count": 23,
     "metadata": {},
     "output_type": "execute_result"
    }
   ],
   "source": [
    "pattern=path+'*.png'\n",
    "pattern"
   ]
  },
  {
   "cell_type": "code",
   "execution_count": 24,
   "metadata": {},
   "outputs": [
    {
     "data": {
      "text/plain": [
       "['C:/Users/Shimul/Documents/Building CSE 4000 Thesis/Defense 27_03_2022/DATASET/test/brick_house\\\\building_house200.png',\n",
       " 'C:/Users/Shimul/Documents/Building CSE 4000 Thesis/Defense 27_03_2022/DATASET/test/brick_house\\\\building_house201.png',\n",
       " 'C:/Users/Shimul/Documents/Building CSE 4000 Thesis/Defense 27_03_2022/DATASET/test/brick_house\\\\building_house202.png',\n",
       " 'C:/Users/Shimul/Documents/Building CSE 4000 Thesis/Defense 27_03_2022/DATASET/test/brick_house\\\\building_house203.png',\n",
       " 'C:/Users/Shimul/Documents/Building CSE 4000 Thesis/Defense 27_03_2022/DATASET/test/brick_house\\\\building_house204.png',\n",
       " 'C:/Users/Shimul/Documents/Building CSE 4000 Thesis/Defense 27_03_2022/DATASET/test/brick_house\\\\building_house205.png',\n",
       " 'C:/Users/Shimul/Documents/Building CSE 4000 Thesis/Defense 27_03_2022/DATASET/test/brick_house\\\\building_house206.png',\n",
       " 'C:/Users/Shimul/Documents/Building CSE 4000 Thesis/Defense 27_03_2022/DATASET/test/brick_house\\\\building_house207.png',\n",
       " 'C:/Users/Shimul/Documents/Building CSE 4000 Thesis/Defense 27_03_2022/DATASET/test/brick_house\\\\building_house208.png',\n",
       " 'C:/Users/Shimul/Documents/Building CSE 4000 Thesis/Defense 27_03_2022/DATASET/test/brick_house\\\\building_house209.png',\n",
       " 'C:/Users/Shimul/Documents/Building CSE 4000 Thesis/Defense 27_03_2022/DATASET/test/brick_house\\\\building_house210.png',\n",
       " 'C:/Users/Shimul/Documents/Building CSE 4000 Thesis/Defense 27_03_2022/DATASET/test/brick_house\\\\building_house211.png',\n",
       " 'C:/Users/Shimul/Documents/Building CSE 4000 Thesis/Defense 27_03_2022/DATASET/test/brick_house\\\\building_house212.png',\n",
       " 'C:/Users/Shimul/Documents/Building CSE 4000 Thesis/Defense 27_03_2022/DATASET/test/brick_house\\\\building_house213.png',\n",
       " 'C:/Users/Shimul/Documents/Building CSE 4000 Thesis/Defense 27_03_2022/DATASET/test/brick_house\\\\building_house214.png',\n",
       " 'C:/Users/Shimul/Documents/Building CSE 4000 Thesis/Defense 27_03_2022/DATASET/test/brick_house\\\\building_house215.png',\n",
       " 'C:/Users/Shimul/Documents/Building CSE 4000 Thesis/Defense 27_03_2022/DATASET/test/brick_house\\\\building_house216.png',\n",
       " 'C:/Users/Shimul/Documents/Building CSE 4000 Thesis/Defense 27_03_2022/DATASET/test/brick_house\\\\building_house217.png',\n",
       " 'C:/Users/Shimul/Documents/Building CSE 4000 Thesis/Defense 27_03_2022/DATASET/test/brick_house\\\\building_house218.png',\n",
       " 'C:/Users/Shimul/Documents/Building CSE 4000 Thesis/Defense 27_03_2022/DATASET/test/brick_house\\\\building_house219.png',\n",
       " 'C:/Users/Shimul/Documents/Building CSE 4000 Thesis/Defense 27_03_2022/DATASET/test/brick_house\\\\building_house220.png',\n",
       " 'C:/Users/Shimul/Documents/Building CSE 4000 Thesis/Defense 27_03_2022/DATASET/test/brick_house\\\\building_house221.png',\n",
       " 'C:/Users/Shimul/Documents/Building CSE 4000 Thesis/Defense 27_03_2022/DATASET/test/brick_house\\\\building_house222.png',\n",
       " 'C:/Users/Shimul/Documents/Building CSE 4000 Thesis/Defense 27_03_2022/DATASET/test/brick_house\\\\building_house223.png',\n",
       " 'C:/Users/Shimul/Documents/Building CSE 4000 Thesis/Defense 27_03_2022/DATASET/test/brick_house\\\\building_house224.png',\n",
       " 'C:/Users/Shimul/Documents/Building CSE 4000 Thesis/Defense 27_03_2022/DATASET/test/brick_house\\\\building_house225.png',\n",
       " 'C:/Users/Shimul/Documents/Building CSE 4000 Thesis/Defense 27_03_2022/DATASET/test/brick_house\\\\building_house226.png',\n",
       " 'C:/Users/Shimul/Documents/Building CSE 4000 Thesis/Defense 27_03_2022/DATASET/test/brick_house\\\\building_house227.png',\n",
       " 'C:/Users/Shimul/Documents/Building CSE 4000 Thesis/Defense 27_03_2022/DATASET/test/brick_house\\\\building_house228.png',\n",
       " 'C:/Users/Shimul/Documents/Building CSE 4000 Thesis/Defense 27_03_2022/DATASET/test/brick_house\\\\building_house229.png',\n",
       " 'C:/Users/Shimul/Documents/Building CSE 4000 Thesis/Defense 27_03_2022/DATASET/test/brick_house\\\\building_house230.png',\n",
       " 'C:/Users/Shimul/Documents/Building CSE 4000 Thesis/Defense 27_03_2022/DATASET/test/brick_house\\\\building_house231.png',\n",
       " 'C:/Users/Shimul/Documents/Building CSE 4000 Thesis/Defense 27_03_2022/DATASET/test/brick_house\\\\building_house232.png',\n",
       " 'C:/Users/Shimul/Documents/Building CSE 4000 Thesis/Defense 27_03_2022/DATASET/test/brick_house\\\\building_house233.png',\n",
       " 'C:/Users/Shimul/Documents/Building CSE 4000 Thesis/Defense 27_03_2022/DATASET/test/brick_house\\\\building_house234.png',\n",
       " 'C:/Users/Shimul/Documents/Building CSE 4000 Thesis/Defense 27_03_2022/DATASET/test/brick_house\\\\building_house235.png',\n",
       " 'C:/Users/Shimul/Documents/Building CSE 4000 Thesis/Defense 27_03_2022/DATASET/test/brick_house\\\\building_house236.png',\n",
       " 'C:/Users/Shimul/Documents/Building CSE 4000 Thesis/Defense 27_03_2022/DATASET/test/brick_house\\\\building_house237.png',\n",
       " 'C:/Users/Shimul/Documents/Building CSE 4000 Thesis/Defense 27_03_2022/DATASET/test/brick_house\\\\building_house238.png',\n",
       " 'C:/Users/Shimul/Documents/Building CSE 4000 Thesis/Defense 27_03_2022/DATASET/test/brick_house\\\\building_house239.png',\n",
       " 'C:/Users/Shimul/Documents/Building CSE 4000 Thesis/Defense 27_03_2022/DATASET/test/brick_house\\\\building_house240.png',\n",
       " 'C:/Users/Shimul/Documents/Building CSE 4000 Thesis/Defense 27_03_2022/DATASET/test/brick_house\\\\building_house241.png',\n",
       " 'C:/Users/Shimul/Documents/Building CSE 4000 Thesis/Defense 27_03_2022/DATASET/test/brick_house\\\\building_house242.png',\n",
       " 'C:/Users/Shimul/Documents/Building CSE 4000 Thesis/Defense 27_03_2022/DATASET/test/brick_house\\\\building_house243.png',\n",
       " 'C:/Users/Shimul/Documents/Building CSE 4000 Thesis/Defense 27_03_2022/DATASET/test/brick_house\\\\building_house244.png',\n",
       " 'C:/Users/Shimul/Documents/Building CSE 4000 Thesis/Defense 27_03_2022/DATASET/test/brick_house\\\\building_house245.png',\n",
       " 'C:/Users/Shimul/Documents/Building CSE 4000 Thesis/Defense 27_03_2022/DATASET/test/brick_house\\\\building_house246.png',\n",
       " 'C:/Users/Shimul/Documents/Building CSE 4000 Thesis/Defense 27_03_2022/DATASET/test/brick_house\\\\building_house247.png',\n",
       " 'C:/Users/Shimul/Documents/Building CSE 4000 Thesis/Defense 27_03_2022/DATASET/test/brick_house\\\\building_house248.png',\n",
       " 'C:/Users/Shimul/Documents/Building CSE 4000 Thesis/Defense 27_03_2022/DATASET/test/brick_house\\\\building_house249.png']"
      ]
     },
     "execution_count": 24,
     "metadata": {},
     "output_type": "execute_result"
    }
   ],
   "source": [
    "result=glob.glob(pattern)\n",
    "result"
   ]
  },
  {
   "cell_type": "code",
   "execution_count": 25,
   "metadata": {},
   "outputs": [],
   "source": [
    "count=250\n",
    "for i in result:\n",
    "    old_name=i\n",
    "    new_name=path+'brick_house'+str(count)+'.png'\n",
    "    os.rename(old_name,new_name)\n",
    "    count=count+1\n",
    "    "
   ]
  }
 ],
 "metadata": {
  "kernelspec": {
   "display_name": "Python 3",
   "language": "python",
   "name": "python3"
  },
  "language_info": {
   "codemirror_mode": {
    "name": "ipython",
    "version": 3
   },
   "file_extension": ".py",
   "mimetype": "text/x-python",
   "name": "python",
   "nbconvert_exporter": "python",
   "pygments_lexer": "ipython3",
   "version": "3.8.5"
  }
 },
 "nbformat": 4,
 "nbformat_minor": 4
}
